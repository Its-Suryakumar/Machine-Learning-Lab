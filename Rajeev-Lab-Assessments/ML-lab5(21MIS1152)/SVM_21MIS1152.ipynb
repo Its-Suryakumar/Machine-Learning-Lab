{
 "cells": [
  {
   "cell_type": "markdown",
   "id": "d01f6717-aa38-45de-b07a-6618052fe05d",
   "metadata": {},
   "source": [
    "21MIS1152\n",
    "Rajeev Sekar"
   ]
  },
  {
   "cell_type": "markdown",
   "id": "c6597167-9d07-4408-87f1-d46d3102f032",
   "metadata": {},
   "source": [
    "Loading the dataset"
   ]
  },
  {
   "cell_type": "code",
   "execution_count": 17,
   "id": "88b6fb35-1cb7-432c-8c71-72325a21ae99",
   "metadata": {},
   "outputs": [
    {
     "data": {
      "text/html": [
       "<div>\n",
       "<style scoped>\n",
       "    .dataframe tbody tr th:only-of-type {\n",
       "        vertical-align: middle;\n",
       "    }\n",
       "\n",
       "    .dataframe tbody tr th {\n",
       "        vertical-align: top;\n",
       "    }\n",
       "\n",
       "    .dataframe thead th {\n",
       "        text-align: right;\n",
       "    }\n",
       "</style>\n",
       "<table border=\"1\" class=\"dataframe\">\n",
       "  <thead>\n",
       "    <tr style=\"text-align: right;\">\n",
       "      <th></th>\n",
       "      <th>0</th>\n",
       "      <th>1</th>\n",
       "      <th>2</th>\n",
       "      <th>3</th>\n",
       "      <th>4</th>\n",
       "      <th>5</th>\n",
       "      <th>6</th>\n",
       "      <th>7</th>\n",
       "      <th>8</th>\n",
       "      <th>9</th>\n",
       "      <th>10</th>\n",
       "      <th>11</th>\n",
       "      <th>12</th>\n",
       "      <th>13</th>\n",
       "      <th>14</th>\n",
       "      <th>15</th>\n",
       "    </tr>\n",
       "  </thead>\n",
       "  <tbody>\n",
       "    <tr>\n",
       "      <th>0</th>\n",
       "      <td>b</td>\n",
       "      <td>30.83</td>\n",
       "      <td>0.000</td>\n",
       "      <td>u</td>\n",
       "      <td>g</td>\n",
       "      <td>w</td>\n",
       "      <td>v</td>\n",
       "      <td>1.25</td>\n",
       "      <td>t</td>\n",
       "      <td>t</td>\n",
       "      <td>1</td>\n",
       "      <td>f</td>\n",
       "      <td>g</td>\n",
       "      <td>00202</td>\n",
       "      <td>0</td>\n",
       "      <td>+</td>\n",
       "    </tr>\n",
       "    <tr>\n",
       "      <th>1</th>\n",
       "      <td>a</td>\n",
       "      <td>58.67</td>\n",
       "      <td>4.460</td>\n",
       "      <td>u</td>\n",
       "      <td>g</td>\n",
       "      <td>q</td>\n",
       "      <td>h</td>\n",
       "      <td>3.04</td>\n",
       "      <td>t</td>\n",
       "      <td>t</td>\n",
       "      <td>6</td>\n",
       "      <td>f</td>\n",
       "      <td>g</td>\n",
       "      <td>00043</td>\n",
       "      <td>560</td>\n",
       "      <td>+</td>\n",
       "    </tr>\n",
       "    <tr>\n",
       "      <th>2</th>\n",
       "      <td>a</td>\n",
       "      <td>24.50</td>\n",
       "      <td>0.500</td>\n",
       "      <td>u</td>\n",
       "      <td>g</td>\n",
       "      <td>q</td>\n",
       "      <td>h</td>\n",
       "      <td>1.50</td>\n",
       "      <td>t</td>\n",
       "      <td>f</td>\n",
       "      <td>0</td>\n",
       "      <td>f</td>\n",
       "      <td>g</td>\n",
       "      <td>00280</td>\n",
       "      <td>824</td>\n",
       "      <td>+</td>\n",
       "    </tr>\n",
       "    <tr>\n",
       "      <th>3</th>\n",
       "      <td>b</td>\n",
       "      <td>27.83</td>\n",
       "      <td>1.540</td>\n",
       "      <td>u</td>\n",
       "      <td>g</td>\n",
       "      <td>w</td>\n",
       "      <td>v</td>\n",
       "      <td>3.75</td>\n",
       "      <td>t</td>\n",
       "      <td>t</td>\n",
       "      <td>5</td>\n",
       "      <td>t</td>\n",
       "      <td>g</td>\n",
       "      <td>00100</td>\n",
       "      <td>3</td>\n",
       "      <td>+</td>\n",
       "    </tr>\n",
       "    <tr>\n",
       "      <th>4</th>\n",
       "      <td>b</td>\n",
       "      <td>20.17</td>\n",
       "      <td>5.625</td>\n",
       "      <td>u</td>\n",
       "      <td>g</td>\n",
       "      <td>w</td>\n",
       "      <td>v</td>\n",
       "      <td>1.71</td>\n",
       "      <td>t</td>\n",
       "      <td>f</td>\n",
       "      <td>0</td>\n",
       "      <td>f</td>\n",
       "      <td>s</td>\n",
       "      <td>00120</td>\n",
       "      <td>0</td>\n",
       "      <td>+</td>\n",
       "    </tr>\n",
       "  </tbody>\n",
       "</table>\n",
       "</div>"
      ],
      "text/plain": [
       "  0      1      2  3  4  5  6     7  8  9   10 11 12     13   14 15\n",
       "0  b  30.83  0.000  u  g  w  v  1.25  t  t   1  f  g  00202    0  +\n",
       "1  a  58.67  4.460  u  g  q  h  3.04  t  t   6  f  g  00043  560  +\n",
       "2  a  24.50  0.500  u  g  q  h  1.50  t  f   0  f  g  00280  824  +\n",
       "3  b  27.83  1.540  u  g  w  v  3.75  t  t   5  t  g  00100    3  +\n",
       "4  b  20.17  5.625  u  g  w  v  1.71  t  f   0  f  s  00120    0  +"
      ]
     },
     "execution_count": 17,
     "metadata": {},
     "output_type": "execute_result"
    }
   ],
   "source": [
    "import pandas as pd\n",
    "cc_apps = pd.read_csv(\"cc_approvals.data\", header = None)\n",
    "cc_apps.head()"
   ]
  },
  {
   "cell_type": "markdown",
   "id": "ce76fdd2-cf0d-48b3-8bc5-390f09d6d592",
   "metadata": {},
   "source": [
    "The col names are defined and the summary stats and info of the dataset is displayed"
   ]
  },
  {
   "cell_type": "code",
   "execution_count": 18,
   "id": "ce8f881e-5d49-48e9-a2a7-bf35a983b58b",
   "metadata": {},
   "outputs": [
    {
     "name": "stdout",
     "output_type": "stream",
     "text": [
      "             Debt  YearsEmployed  CreditScore         Income\n",
      "count  690.000000     690.000000    690.00000     690.000000\n",
      "mean     4.758725       2.223406      2.40000    1017.385507\n",
      "std      4.978163       3.346513      4.86294    5210.102598\n",
      "min      0.000000       0.000000      0.00000       0.000000\n",
      "25%      1.000000       0.165000      0.00000       0.000000\n",
      "50%      2.750000       1.000000      0.00000       5.000000\n",
      "75%      7.207500       2.625000      3.00000     395.500000\n",
      "max     28.000000      28.500000     67.00000  100000.000000\n",
      "\n",
      "\n",
      "<class 'pandas.core.frame.DataFrame'>\n",
      "RangeIndex: 690 entries, 0 to 689\n",
      "Data columns (total 16 columns):\n",
      " #   Column          Non-Null Count  Dtype  \n",
      "---  ------          --------------  -----  \n",
      " 0   Gender          690 non-null    object \n",
      " 1   Age             690 non-null    object \n",
      " 2   Debt            690 non-null    float64\n",
      " 3   Married         690 non-null    object \n",
      " 4   BankCustomer    690 non-null    object \n",
      " 5   EducationLevel  690 non-null    object \n",
      " 6   Ethnicity       690 non-null    object \n",
      " 7   YearsEmployed   690 non-null    float64\n",
      " 8   PriorDefault    690 non-null    object \n",
      " 9   Employed        690 non-null    object \n",
      " 10  CreditScore     690 non-null    int64  \n",
      " 11  DriversLicense  690 non-null    object \n",
      " 12  Citizen         690 non-null    object \n",
      " 13  ZipCode         690 non-null    object \n",
      " 14  Income          690 non-null    int64  \n",
      " 15  ApprovalStatus  690 non-null    object \n",
      "dtypes: float64(2), int64(2), object(12)\n",
      "memory usage: 86.4+ KB\n",
      "None\n",
      "\n",
      "\n"
     ]
    }
   ],
   "source": [
    "cc_apps.columns=['Gender', 'Age', 'Debt', 'Married', 'BankCustomer', 'EducationLevel', \n",
    "            'Ethnicity', 'YearsEmployed', 'PriorDefault', 'Employed', 'CreditScore', 'DriversLicense', \n",
    "            'Citizen', 'ZipCode', 'Income','ApprovalStatus']\n",
    "\n",
    "# Print summary statistics\n",
    "cc_apps_description = cc_apps.describe()\n",
    "print(cc_apps_description)\n",
    "print('\\n')\n",
    "\n",
    "# Print DataFrame information\n",
    "cc_apps_info = cc_apps.info()\n",
    "print(cc_apps_info)\n",
    "print('\\n')\n"
   ]
  },
  {
   "cell_type": "markdown",
   "id": "77d27008-b60a-4a79-b52f-33bfb3c72262",
   "metadata": {},
   "source": [
    "DATA PREPROCESSING"
   ]
  },
  {
   "cell_type": "markdown",
   "id": "44fd8af3-30f7-47b5-bd06-f30039ce161a",
   "metadata": {},
   "source": [
    "Handling null values and 2 cols are dropped as they are irrelavant for this task\n"
   ]
  },
  {
   "cell_type": "code",
   "execution_count": 19,
   "id": "7d2a9773-13e4-4915-bc90-2163db48320b",
   "metadata": {},
   "outputs": [
    {
     "data": {
      "text/plain": [
       "Gender            12\n",
       "Age               12\n",
       "Debt               0\n",
       "Married            6\n",
       "BankCustomer       6\n",
       "EducationLevel     9\n",
       "Ethnicity          9\n",
       "YearsEmployed      0\n",
       "PriorDefault       0\n",
       "Employed           0\n",
       "CreditScore        0\n",
       "Citizen            0\n",
       "Income             0\n",
       "ApprovalStatus     0\n",
       "dtype: int64"
      ]
     },
     "execution_count": 19,
     "metadata": {},
     "output_type": "execute_result"
    }
   ],
   "source": [
    "import numpy as np\n",
    "\n",
    "# Drop the features DriversLicense and ZipCode\n",
    "cc_apps = cc_apps.drop([\"DriversLicense\", \"ZipCode\"], axis=1)\n",
    "\n",
    "#replace all ? with numpy NaN value\n",
    "cc_apps = cc_apps.replace('?', np.NaN)\n",
    "\n",
    "#change the datatype of age col to float\n",
    "cc_apps['Age'] = cc_apps['Age'].astype(float)\n",
    "\n",
    "#print no of null values \n",
    "cc_apps.isnull().sum()"
   ]
  },
  {
   "cell_type": "code",
   "execution_count": 20,
   "id": "aaa46888-d7de-47e0-bbf7-59818ff88071",
   "metadata": {},
   "outputs": [
    {
     "name": "stdout",
     "output_type": "stream",
     "text": [
      "Gender            0\n",
      "Age               0\n",
      "Debt              0\n",
      "Married           0\n",
      "BankCustomer      0\n",
      "EducationLevel    0\n",
      "Ethnicity         0\n",
      "YearsEmployed     0\n",
      "PriorDefault      0\n",
      "Employed          0\n",
      "CreditScore       0\n",
      "Citizen           0\n",
      "Income            0\n",
      "ApprovalStatus    0\n",
      "dtype: int64\n",
      "0      +\n",
      "1      +\n",
      "2      +\n",
      "3      +\n",
      "4      +\n",
      "      ..\n",
      "685    -\n",
      "686    -\n",
      "687    -\n",
      "688    -\n",
      "689    -\n",
      "Name: ApprovalStatus, Length: 690, dtype: object\n"
     ]
    }
   ],
   "source": [
    "#catagorical variables\n",
    "categorical = [var for var in cc_apps.columns if cc_apps[var].dtype == 'O']\n",
    "\n",
    "#numeric variables\n",
    "numerical = [var for var in cc_apps.columns if cc_apps[var].dtype != 'O']\n",
    "\n",
    "#replace null values with mode value\n",
    "for col in categorical:\n",
    "    cc_apps[col].fillna(cc_apps[col].mode()[0],inplace = True)\n",
    "    \n",
    "#handle missing values of numeric features by replacing with mean\n",
    "cc_apps[numerical] = cc_apps[numerical].fillna(cc_apps[numerical].mean())\n",
    "\n",
    "# Count the number of NaNs in the datasets and print the counts to verify\n",
    "print(cc_apps.isnull().sum())\n",
    "\n",
    "print(cc_apps[\"ApprovalStatus\"])"
   ]
  },
  {
   "cell_type": "markdown",
   "id": "a614240a-8f3f-459f-b454-c4faac2f27c9",
   "metadata": {},
   "source": [
    "Separate feature and target values and spliting into train and test sets"
   ]
  },
  {
   "cell_type": "code",
   "execution_count": 25,
   "id": "9bb051f6-f5f1-4366-b9ba-90f87e4b1fae",
   "metadata": {},
   "outputs": [],
   "source": [
    "# split data into its X and y components\n",
    "X = cc_apps.drop('ApprovalStatus',axis = 1)\n",
    "y = cc_apps['ApprovalStatus']\n",
    "X=pd.get_dummies(X)"
   ]
  },
  {
   "cell_type": "code",
   "execution_count": 26,
   "id": "6c47e29b-0ed0-4d43-80c9-6d86187c8dd8",
   "metadata": {},
   "outputs": [],
   "source": [
    "from sklearn.model_selection import train_test_split\n",
    "X_train, X_test, y_train, y_test = train_test_split(X, y, test_size=0.30, random_state=0)"
   ]
  },
  {
   "cell_type": "markdown",
   "id": "d2b9b632-8ae7-43fc-a575-7b1f34bed441",
   "metadata": {},
   "source": [
    "MODEL TRAINING: Linear SVM"
   ]
  },
  {
   "cell_type": "code",
   "execution_count": 27,
   "id": "41198f5e-8dda-4367-b1ca-c9a47075b6a6",
   "metadata": {},
   "outputs": [
    {
     "data": {
      "text/html": [
       "<style>#sk-container-id-1 {color: black;background-color: white;}#sk-container-id-1 pre{padding: 0;}#sk-container-id-1 div.sk-toggleable {background-color: white;}#sk-container-id-1 label.sk-toggleable__label {cursor: pointer;display: block;width: 100%;margin-bottom: 0;padding: 0.3em;box-sizing: border-box;text-align: center;}#sk-container-id-1 label.sk-toggleable__label-arrow:before {content: \"▸\";float: left;margin-right: 0.25em;color: #696969;}#sk-container-id-1 label.sk-toggleable__label-arrow:hover:before {color: black;}#sk-container-id-1 div.sk-estimator:hover label.sk-toggleable__label-arrow:before {color: black;}#sk-container-id-1 div.sk-toggleable__content {max-height: 0;max-width: 0;overflow: hidden;text-align: left;background-color: #f0f8ff;}#sk-container-id-1 div.sk-toggleable__content pre {margin: 0.2em;color: black;border-radius: 0.25em;background-color: #f0f8ff;}#sk-container-id-1 input.sk-toggleable__control:checked~div.sk-toggleable__content {max-height: 200px;max-width: 100%;overflow: auto;}#sk-container-id-1 input.sk-toggleable__control:checked~label.sk-toggleable__label-arrow:before {content: \"▾\";}#sk-container-id-1 div.sk-estimator input.sk-toggleable__control:checked~label.sk-toggleable__label {background-color: #d4ebff;}#sk-container-id-1 div.sk-label input.sk-toggleable__control:checked~label.sk-toggleable__label {background-color: #d4ebff;}#sk-container-id-1 input.sk-hidden--visually {border: 0;clip: rect(1px 1px 1px 1px);clip: rect(1px, 1px, 1px, 1px);height: 1px;margin: -1px;overflow: hidden;padding: 0;position: absolute;width: 1px;}#sk-container-id-1 div.sk-estimator {font-family: monospace;background-color: #f0f8ff;border: 1px dotted black;border-radius: 0.25em;box-sizing: border-box;margin-bottom: 0.5em;}#sk-container-id-1 div.sk-estimator:hover {background-color: #d4ebff;}#sk-container-id-1 div.sk-parallel-item::after {content: \"\";width: 100%;border-bottom: 1px solid gray;flex-grow: 1;}#sk-container-id-1 div.sk-label:hover label.sk-toggleable__label {background-color: #d4ebff;}#sk-container-id-1 div.sk-serial::before {content: \"\";position: absolute;border-left: 1px solid gray;box-sizing: border-box;top: 0;bottom: 0;left: 50%;z-index: 0;}#sk-container-id-1 div.sk-serial {display: flex;flex-direction: column;align-items: center;background-color: white;padding-right: 0.2em;padding-left: 0.2em;position: relative;}#sk-container-id-1 div.sk-item {position: relative;z-index: 1;}#sk-container-id-1 div.sk-parallel {display: flex;align-items: stretch;justify-content: center;background-color: white;position: relative;}#sk-container-id-1 div.sk-item::before, #sk-container-id-1 div.sk-parallel-item::before {content: \"\";position: absolute;border-left: 1px solid gray;box-sizing: border-box;top: 0;bottom: 0;left: 50%;z-index: -1;}#sk-container-id-1 div.sk-parallel-item {display: flex;flex-direction: column;z-index: 1;position: relative;background-color: white;}#sk-container-id-1 div.sk-parallel-item:first-child::after {align-self: flex-end;width: 50%;}#sk-container-id-1 div.sk-parallel-item:last-child::after {align-self: flex-start;width: 50%;}#sk-container-id-1 div.sk-parallel-item:only-child::after {width: 0;}#sk-container-id-1 div.sk-dashed-wrapped {border: 1px dashed gray;margin: 0 0.4em 0.5em 0.4em;box-sizing: border-box;padding-bottom: 0.4em;background-color: white;}#sk-container-id-1 div.sk-label label {font-family: monospace;font-weight: bold;display: inline-block;line-height: 1.2em;}#sk-container-id-1 div.sk-label-container {text-align: center;}#sk-container-id-1 div.sk-container {/* jupyter's `normalize.less` sets `[hidden] { display: none; }` but bootstrap.min.css set `[hidden] { display: none !important; }` so we also need the `!important` here to be able to override the default hidden behavior on the sphinx rendered scikit-learn.org. See: https://github.com/scikit-learn/scikit-learn/issues/21755 */display: inline-block !important;position: relative;}#sk-container-id-1 div.sk-text-repr-fallback {display: none;}</style><div id=\"sk-container-id-1\" class=\"sk-top-container\"><div class=\"sk-text-repr-fallback\"><pre>SVC(kernel=&#x27;linear&#x27;)</pre><b>In a Jupyter environment, please rerun this cell to show the HTML representation or trust the notebook. <br />On GitHub, the HTML representation is unable to render, please try loading this page with nbviewer.org.</b></div><div class=\"sk-container\" hidden><div class=\"sk-item\"><div class=\"sk-estimator sk-toggleable\"><input class=\"sk-toggleable__control sk-hidden--visually\" id=\"sk-estimator-id-1\" type=\"checkbox\" checked><label for=\"sk-estimator-id-1\" class=\"sk-toggleable__label sk-toggleable__label-arrow\">SVC</label><div class=\"sk-toggleable__content\"><pre>SVC(kernel=&#x27;linear&#x27;)</pre></div></div></div></div></div>"
      ],
      "text/plain": [
       "SVC(kernel='linear')"
      ]
     },
     "execution_count": 27,
     "metadata": {},
     "output_type": "execute_result"
    }
   ],
   "source": [
    "from sklearn import svm\n",
    "clf = svm.SVC(kernel='linear')\n",
    "clf.fit(X_train, y_train)"
   ]
  },
  {
   "cell_type": "markdown",
   "id": "8f7a3831-a6eb-460e-b005-a729ab3d4c18",
   "metadata": {},
   "source": [
    "MODEL EVALUATION"
   ]
  },
  {
   "cell_type": "code",
   "execution_count": 28,
   "id": "88b70d4a-e179-4759-a09d-5f74eda90f82",
   "metadata": {},
   "outputs": [
    {
     "data": {
      "text/plain": [
       "array([[ 74,  16],\n",
       "       [ 17, 100]], dtype=int64)"
      ]
     },
     "execution_count": 28,
     "metadata": {},
     "output_type": "execute_result"
    }
   ],
   "source": [
    "from sklearn.metrics import confusion_matrix\n",
    "y_pred = clf.predict(X_test)\n",
    "\n",
    "confusion_matrix(y_test,y_pred)"
   ]
  },
  {
   "cell_type": "code",
   "execution_count": 29,
   "id": "39e9a700-1c07-4d6c-a5a0-7a09ab727320",
   "metadata": {},
   "outputs": [
    {
     "name": "stdout",
     "output_type": "stream",
     "text": [
      "              precision    recall  f1-score   support\n",
      "\n",
      "           +       0.81      0.82      0.82        90\n",
      "           -       0.86      0.85      0.86       117\n",
      "\n",
      "    accuracy                           0.84       207\n",
      "   macro avg       0.84      0.84      0.84       207\n",
      "weighted avg       0.84      0.84      0.84       207\n",
      "\n"
     ]
    }
   ],
   "source": [
    "from sklearn.metrics import classification_report\n",
    "y_pred=clf.predict(X_test)\n",
    "print(classification_report(y_test, y_pred))"
   ]
  },
  {
   "cell_type": "markdown",
   "id": "cd947c6b-88d3-4477-8c22-53c634fb3dc9",
   "metadata": {},
   "source": [
    "84% of the cases are accurately predicted, onyl 81% of cases predicted as approved are actually approved and  only 82% of the cases of the cases which are actually approved are predicted correctly"
   ]
  },
  {
   "cell_type": "markdown",
   "id": "6cf6828b-40b9-4825-88a8-620559981f94",
   "metadata": {},
   "source": [
    "This shows the points considered as the support vectors"
   ]
  },
  {
   "cell_type": "code",
   "execution_count": 30,
   "id": "4add0ff3-8176-4ae9-bfc6-8d58b05928cb",
   "metadata": {},
   "outputs": [
    {
     "name": "stdout",
     "output_type": "stream",
     "text": [
      "[[36.33   2.125  0.085 ...  1.     0.     0.   ]\n",
      " [20.25   9.96   0.    ...  1.     0.     0.   ]\n",
      " [21.33  10.5    3.    ...  1.     0.     0.   ]\n",
      " ...\n",
      " [35.25   3.165  3.75  ...  1.     0.     0.   ]\n",
      " [25.67   2.21   4.    ...  1.     0.     0.   ]\n",
      " [32.33   7.5    1.585 ...  0.     0.     1.   ]]\n"
     ]
    }
   ],
   "source": [
    "print(clf.support_vectors_)"
   ]
  },
  {
   "cell_type": "code",
   "execution_count": 31,
   "id": "11838522-c834-49ae-a504-b10e2ae4f072",
   "metadata": {},
   "outputs": [],
   "source": [
    "from mpl_toolkits.mplot3d import Axes3D\n",
    "from matplotlib import pyplot as plt"
   ]
  },
  {
   "cell_type": "code",
   "execution_count": 35,
   "id": "b261579b",
   "metadata": {},
   "outputs": [
    {
     "data": {
      "text/plain": [
       "Text(0.5, 0, 'Income ')"
      ]
     },
     "execution_count": 35,
     "metadata": {},
     "output_type": "execute_result"
    },
    {
     "data": {
      "image/png": "[encoded data removed]",
      "text/plain": [
       "<Figure size 640x480 with 1 Axes>"
      ]
     },
     "metadata": {},
     "output_type": "display_data"
    }
   ],
   "source": [
    "ax = plt.axes(projection='3d')\n",
    "ax.scatter(X['CreditScore'],X['Debt'], X['Income'])\n",
    "ax.set_xlabel('CreditScore')\n",
    "ax.set_ylabel('PriorDefault')\n",
    "ax.set_zlabel('Income ')"
   ]
  },
  {
   "cell_type": "code",
   "execution_count": null,
   "id": "b1be6ce6",
   "metadata": {},
   "outputs": [],
   "source": []
  }
 ],
 "metadata": {
  "kernelspec": {
   "display_name": "Python 3 (ipykernel)",
   "language": "python",
   "name": "python3"
  },
  "language_info": {
   "codemirror_mode": {
    "name": "ipython",
    "version": 3
   },
   "file_extension": ".py",
   "mimetype": "text/x-python",
   "name": "python",
   "nbconvert_exporter": "python",
   "pygments_lexer": "ipython3",
   "version": "3.8.10"
  }
 },
 "nbformat": 4,
 "nbformat_minor": 5
}
