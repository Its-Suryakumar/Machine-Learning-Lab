{
 "cells": [
  {
   "cell_type": "markdown",
   "id": "90e3bc0a",
   "metadata": {},
   "source": [
    "Question-1\n",
    "\n",
    "Reg No: 21MIS1152\n",
    "\n",
    "Name: Rajeev Sekar"
   ]
  },
  {
   "cell_type": "markdown",
   "id": "31ba89f1",
   "metadata": {},
   "source": [
    "IMPORTING NECESSARY LIBS AND LOADING THE DATA"
   ]
  },
  {
   "cell_type": "code",
   "execution_count": 217,
   "id": "0b3b493d",
   "metadata": {},
   "outputs": [],
   "source": [
    "import pandas as pd\n",
    "import numpy as np\n",
    "import matplotlib.pyplot as plt\n",
    "\n",
    "df=pd.read_csv(\"monica.csv\")"
   ]
  },
  {
   "cell_type": "code",
   "execution_count": 218,
   "id": "afd50c3f",
   "metadata": {},
   "outputs": [
    {
     "data": {
      "text/html": [
       "<div>\n",
       "<style scoped>\n",
       "    .dataframe tbody tr th:only-of-type {\n",
       "        vertical-align: middle;\n",
       "    }\n",
       "\n",
       "    .dataframe tbody tr th {\n",
       "        vertical-align: top;\n",
       "    }\n",
       "\n",
       "    .dataframe thead th {\n",
       "        text-align: right;\n",
       "    }\n",
       "</style>\n",
       "<table border=\"1\" class=\"dataframe\">\n",
       "  <thead>\n",
       "    <tr style=\"text-align: right;\">\n",
       "      <th></th>\n",
       "      <th>Serial No.</th>\n",
       "      <th>outcome</th>\n",
       "      <th>sex</th>\n",
       "      <th>age</th>\n",
       "      <th>yronset</th>\n",
       "      <th>premi</th>\n",
       "      <th>smstat</th>\n",
       "      <th>diabetes</th>\n",
       "      <th>highbp</th>\n",
       "      <th>hichol</th>\n",
       "      <th>angina</th>\n",
       "      <th>stroke</th>\n",
       "      <th>hosp</th>\n",
       "    </tr>\n",
       "  </thead>\n",
       "  <tbody>\n",
       "    <tr>\n",
       "      <th>0</th>\n",
       "      <td>1</td>\n",
       "      <td>live</td>\n",
       "      <td>f</td>\n",
       "      <td>63</td>\n",
       "      <td>85</td>\n",
       "      <td>n</td>\n",
       "      <td>x</td>\n",
       "      <td>n</td>\n",
       "      <td>y</td>\n",
       "      <td>y</td>\n",
       "      <td>n</td>\n",
       "      <td>n</td>\n",
       "      <td>y</td>\n",
       "    </tr>\n",
       "    <tr>\n",
       "      <th>1</th>\n",
       "      <td>2</td>\n",
       "      <td>live</td>\n",
       "      <td>m</td>\n",
       "      <td>59</td>\n",
       "      <td>85</td>\n",
       "      <td>y</td>\n",
       "      <td>x</td>\n",
       "      <td>n</td>\n",
       "      <td>y</td>\n",
       "      <td>n</td>\n",
       "      <td>n</td>\n",
       "      <td>n</td>\n",
       "      <td>y</td>\n",
       "    </tr>\n",
       "    <tr>\n",
       "      <th>2</th>\n",
       "      <td>3</td>\n",
       "      <td>live</td>\n",
       "      <td>m</td>\n",
       "      <td>68</td>\n",
       "      <td>85</td>\n",
       "      <td>n</td>\n",
       "      <td>n</td>\n",
       "      <td>n</td>\n",
       "      <td>y</td>\n",
       "      <td>n</td>\n",
       "      <td>n</td>\n",
       "      <td>n</td>\n",
       "      <td>y</td>\n",
       "    </tr>\n",
       "    <tr>\n",
       "      <th>3</th>\n",
       "      <td>4</td>\n",
       "      <td>live</td>\n",
       "      <td>m</td>\n",
       "      <td>46</td>\n",
       "      <td>85</td>\n",
       "      <td>n</td>\n",
       "      <td>c</td>\n",
       "      <td>n</td>\n",
       "      <td>n</td>\n",
       "      <td>n</td>\n",
       "      <td>n</td>\n",
       "      <td>n</td>\n",
       "      <td>y</td>\n",
       "    </tr>\n",
       "    <tr>\n",
       "      <th>4</th>\n",
       "      <td>5</td>\n",
       "      <td>dead</td>\n",
       "      <td>m</td>\n",
       "      <td>48</td>\n",
       "      <td>85</td>\n",
       "      <td>n</td>\n",
       "      <td>n</td>\n",
       "      <td>y</td>\n",
       "      <td>n</td>\n",
       "      <td>n</td>\n",
       "      <td>y</td>\n",
       "      <td>n</td>\n",
       "      <td>y</td>\n",
       "    </tr>\n",
       "    <tr>\n",
       "      <th>5</th>\n",
       "      <td>6</td>\n",
       "      <td>live</td>\n",
       "      <td>f</td>\n",
       "      <td>55</td>\n",
       "      <td>85</td>\n",
       "      <td>n</td>\n",
       "      <td>c</td>\n",
       "      <td>n</td>\n",
       "      <td>y</td>\n",
       "      <td>y</td>\n",
       "      <td>n</td>\n",
       "      <td>n</td>\n",
       "      <td>y</td>\n",
       "    </tr>\n",
       "    <tr>\n",
       "      <th>6</th>\n",
       "      <td>7</td>\n",
       "      <td>live</td>\n",
       "      <td>m</td>\n",
       "      <td>56</td>\n",
       "      <td>85</td>\n",
       "      <td>n</td>\n",
       "      <td>x</td>\n",
       "      <td>n</td>\n",
       "      <td>y</td>\n",
       "      <td>n</td>\n",
       "      <td>n</td>\n",
       "      <td>n</td>\n",
       "      <td>y</td>\n",
       "    </tr>\n",
       "    <tr>\n",
       "      <th>7</th>\n",
       "      <td>8</td>\n",
       "      <td>live</td>\n",
       "      <td>f</td>\n",
       "      <td>68</td>\n",
       "      <td>85</td>\n",
       "      <td>y</td>\n",
       "      <td>nk</td>\n",
       "      <td>nk</td>\n",
       "      <td>y</td>\n",
       "      <td>nk</td>\n",
       "      <td>y</td>\n",
       "      <td>n</td>\n",
       "      <td>y</td>\n",
       "    </tr>\n",
       "    <tr>\n",
       "      <th>8</th>\n",
       "      <td>9</td>\n",
       "      <td>live</td>\n",
       "      <td>m</td>\n",
       "      <td>69</td>\n",
       "      <td>85</td>\n",
       "      <td>n</td>\n",
       "      <td>n</td>\n",
       "      <td>n</td>\n",
       "      <td>y</td>\n",
       "      <td>y</td>\n",
       "      <td>n</td>\n",
       "      <td>n</td>\n",
       "      <td>y</td>\n",
       "    </tr>\n",
       "    <tr>\n",
       "      <th>9</th>\n",
       "      <td>10</td>\n",
       "      <td>live</td>\n",
       "      <td>f</td>\n",
       "      <td>64</td>\n",
       "      <td>85</td>\n",
       "      <td>n</td>\n",
       "      <td>x</td>\n",
       "      <td>n</td>\n",
       "      <td>y</td>\n",
       "      <td>n</td>\n",
       "      <td>y</td>\n",
       "      <td>n</td>\n",
       "      <td>y</td>\n",
       "    </tr>\n",
       "  </tbody>\n",
       "</table>\n",
       "</div>"
      ],
      "text/plain": [
       "   Serial No. outcome sex  age  yronset premi smstat diabetes highbp hichol  \\\n",
       "0           1    live   f   63       85     n      x        n      y      y   \n",
       "1           2    live   m   59       85     y      x        n      y      n   \n",
       "2           3    live   m   68       85     n      n        n      y      n   \n",
       "3           4    live   m   46       85     n      c        n      n      n   \n",
       "4           5    dead   m   48       85     n      n        y      n      n   \n",
       "5           6    live   f   55       85     n      c        n      y      y   \n",
       "6           7    live   m   56       85     n      x        n      y      n   \n",
       "7           8    live   f   68       85     y     nk       nk      y     nk   \n",
       "8           9    live   m   69       85     n      n        n      y      y   \n",
       "9          10    live   f   64       85     n      x        n      y      n   \n",
       "\n",
       "  angina stroke hosp  \n",
       "0      n      n    y  \n",
       "1      n      n    y  \n",
       "2      n      n    y  \n",
       "3      n      n    y  \n",
       "4      y      n    y  \n",
       "5      n      n    y  \n",
       "6      n      n    y  \n",
       "7      y      n    y  \n",
       "8      n      n    y  \n",
       "9      y      n    y  "
      ]
     },
     "execution_count": 218,
     "metadata": {},
     "output_type": "execute_result"
    }
   ],
   "source": [
    "df.head(10)"
   ]
  },
  {
   "cell_type": "markdown",
   "id": "71de5323",
   "metadata": {},
   "source": [
    "here outcome is the target variable and other cols are features. Serial No is an irrelavant feature so it can be dropped"
   ]
  },
  {
   "cell_type": "code",
   "execution_count": 219,
   "id": "25057ec6",
   "metadata": {},
   "outputs": [],
   "source": [
    "# Drop serial no\n",
    "df = df.drop([\"Serial No.\"], axis=1)"
   ]
  },
  {
   "cell_type": "code",
   "execution_count": 220,
   "id": "42e64021",
   "metadata": {},
   "outputs": [
    {
     "data": {
      "text/html": [
       "<div>\n",
       "<style scoped>\n",
       "    .dataframe tbody tr th:only-of-type {\n",
       "        vertical-align: middle;\n",
       "    }\n",
       "\n",
       "    .dataframe tbody tr th {\n",
       "        vertical-align: top;\n",
       "    }\n",
       "\n",
       "    .dataframe thead th {\n",
       "        text-align: right;\n",
       "    }\n",
       "</style>\n",
       "<table border=\"1\" class=\"dataframe\">\n",
       "  <thead>\n",
       "    <tr style=\"text-align: right;\">\n",
       "      <th></th>\n",
       "      <th>age</th>\n",
       "      <th>yronset</th>\n",
       "    </tr>\n",
       "  </thead>\n",
       "  <tbody>\n",
       "    <tr>\n",
       "      <th>count</th>\n",
       "      <td>6367.000000</td>\n",
       "      <td>6367.000000</td>\n",
       "    </tr>\n",
       "    <tr>\n",
       "      <th>mean</th>\n",
       "      <td>59.419978</td>\n",
       "      <td>88.749018</td>\n",
       "    </tr>\n",
       "    <tr>\n",
       "      <th>std</th>\n",
       "      <td>7.853923</td>\n",
       "      <td>2.558180</td>\n",
       "    </tr>\n",
       "    <tr>\n",
       "      <th>min</th>\n",
       "      <td>35.000000</td>\n",
       "      <td>85.000000</td>\n",
       "    </tr>\n",
       "    <tr>\n",
       "      <th>25%</th>\n",
       "      <td>55.000000</td>\n",
       "      <td>87.000000</td>\n",
       "    </tr>\n",
       "    <tr>\n",
       "      <th>50%</th>\n",
       "      <td>61.000000</td>\n",
       "      <td>89.000000</td>\n",
       "    </tr>\n",
       "    <tr>\n",
       "      <th>75%</th>\n",
       "      <td>66.000000</td>\n",
       "      <td>91.000000</td>\n",
       "    </tr>\n",
       "    <tr>\n",
       "      <th>max</th>\n",
       "      <td>69.000000</td>\n",
       "      <td>93.000000</td>\n",
       "    </tr>\n",
       "  </tbody>\n",
       "</table>\n",
       "</div>"
      ],
      "text/plain": [
       "               age      yronset\n",
       "count  6367.000000  6367.000000\n",
       "mean     59.419978    88.749018\n",
       "std       7.853923     2.558180\n",
       "min      35.000000    85.000000\n",
       "25%      55.000000    87.000000\n",
       "50%      61.000000    89.000000\n",
       "75%      66.000000    91.000000\n",
       "max      69.000000    93.000000"
      ]
     },
     "execution_count": 220,
     "metadata": {},
     "output_type": "execute_result"
    }
   ],
   "source": [
    "df.describe()"
   ]
  },
  {
   "cell_type": "code",
   "execution_count": 221,
   "id": "be852bc6",
   "metadata": {},
   "outputs": [
    {
     "name": "stdout",
     "output_type": "stream",
     "text": [
      "<class 'pandas.core.frame.DataFrame'>\n",
      "RangeIndex: 6367 entries, 0 to 6366\n",
      "Data columns (total 12 columns):\n",
      " #   Column    Non-Null Count  Dtype \n",
      "---  ------    --------------  ----- \n",
      " 0   outcome   6367 non-null   object\n",
      " 1   sex       6367 non-null   object\n",
      " 2   age       6367 non-null   int64 \n",
      " 3   yronset   6367 non-null   int64 \n",
      " 4   premi     6367 non-null   object\n",
      " 5   smstat    6367 non-null   object\n",
      " 6   diabetes  6367 non-null   object\n",
      " 7   highbp    6367 non-null   object\n",
      " 8   hichol    6367 non-null   object\n",
      " 9   angina    6367 non-null   object\n",
      " 10  stroke    6367 non-null   object\n",
      " 11  hosp      6367 non-null   object\n",
      "dtypes: int64(2), object(10)\n",
      "memory usage: 597.0+ KB\n"
     ]
    }
   ],
   "source": [
    "df.info()"
   ]
  },
  {
   "cell_type": "markdown",
   "id": "843a0413",
   "metadata": {},
   "source": [
    "by using the info and describe methods, we can see that age and yronset features are numerical features and the other features are catagorical"
   ]
  },
  {
   "cell_type": "markdown",
   "id": "ee6f9f9c",
   "metadata": {},
   "source": [
    "DATA PREPROCESSING:"
   ]
  },
  {
   "cell_type": "code",
   "execution_count": 222,
   "id": "adbc6d40",
   "metadata": {},
   "outputs": [
    {
     "data": {
      "text/plain": [
       "outcome     0\n",
       "sex         0\n",
       "age         0\n",
       "yronset     0\n",
       "premi       0\n",
       "smstat      0\n",
       "diabetes    0\n",
       "highbp      0\n",
       "hichol      0\n",
       "angina      0\n",
       "stroke      0\n",
       "hosp        0\n",
       "dtype: int64"
      ]
     },
     "execution_count": 222,
     "metadata": {},
     "output_type": "execute_result"
    }
   ],
   "source": [
    "#checking null values\n",
    "df.isnull().sum()"
   ]
  },
  {
   "cell_type": "code",
   "execution_count": 223,
   "id": "f21f120b",
   "metadata": {},
   "outputs": [
    {
     "data": {
      "text/plain": [
       "outcome\n",
       "dead    2842\n",
       "live    3525\n",
       "dtype: int64"
      ]
     },
     "execution_count": 223,
     "metadata": {},
     "output_type": "execute_result"
    }
   ],
   "source": [
    "df.groupby('outcome').size()"
   ]
  },
  {
   "cell_type": "markdown",
   "id": "a5077085",
   "metadata": {},
   "source": [
    "=> It is a balanced dataset"
   ]
  },
  {
   "cell_type": "markdown",
   "id": "45bc764b",
   "metadata": {},
   "source": [
    "Next we analyze the catagorical variables (How many different possible values they have)"
   ]
  },
  {
   "cell_type": "code",
   "execution_count": 224,
   "id": "7ef6d3d6",
   "metadata": {},
   "outputs": [
    {
     "data": {
      "text/plain": [
       "['outcome',\n",
       " 'sex',\n",
       " 'premi',\n",
       " 'smstat',\n",
       " 'diabetes',\n",
       " 'highbp',\n",
       " 'hichol',\n",
       " 'angina',\n",
       " 'stroke',\n",
       " 'hosp']"
      ]
     },
     "execution_count": 224,
     "metadata": {},
     "output_type": "execute_result"
    }
   ],
   "source": [
    "#catagorical variables\n",
    "categorical = [var for var in df.columns if df[var].dtype == 'O']\n",
    "categorical"
   ]
  },
  {
   "cell_type": "code",
   "execution_count": 225,
   "id": "7c80476f",
   "metadata": {},
   "outputs": [
    {
     "name": "stdout",
     "output_type": "stream",
     "text": [
      "outcome\n",
      "dead    2842\n",
      "live    3525\n",
      "dtype: int64\n",
      "\n",
      "\n",
      "sex\n",
      "f    1762\n",
      "m    4605\n",
      "dtype: int64\n",
      "\n",
      "\n",
      "premi\n",
      "n     4122\n",
      "nk     734\n",
      "y     1511\n",
      "dtype: int64\n",
      "\n",
      "\n",
      "smstat\n",
      "c     2051\n",
      "n     1460\n",
      "nk     918\n",
      "x     1938\n",
      "dtype: int64\n",
      "\n",
      "\n",
      "diabetes\n",
      "n     4664\n",
      "nk     885\n",
      "y      818\n",
      "dtype: int64\n",
      "\n",
      "\n",
      "highbp\n",
      "n     2542\n",
      "nk     948\n",
      "y     2877\n",
      "dtype: int64\n",
      "\n",
      "\n",
      "hichol\n",
      "n     3294\n",
      "nk    1233\n",
      "y     1840\n",
      "dtype: int64\n",
      "\n",
      "\n",
      "angina\n",
      "n     3473\n",
      "nk     975\n",
      "y     1919\n",
      "dtype: int64\n",
      "\n",
      "\n",
      "stroke\n",
      "n     4881\n",
      "nk     926\n",
      "y      560\n",
      "dtype: int64\n",
      "\n",
      "\n",
      "hosp\n",
      "n    1925\n",
      "y    4442\n",
      "dtype: int64\n",
      "\n",
      "\n"
     ]
    }
   ],
   "source": [
    "for col in categorical:\n",
    "    print(df.groupby(col).size())\n",
    "    print(\"\\n\")"
   ]
  },
  {
   "cell_type": "markdown",
   "id": "c76978f1",
   "metadata": {},
   "source": [
    "Here the value \"nk\" in teh features (stroke,angina,hicol,highbp,smstat,premi) suggests that the state of those features for that particular patient is \"not known\", so we can consider those as null values so we remove the rows with null values"
   ]
  },
  {
   "cell_type": "code",
   "execution_count": 226,
   "id": "19319321",
   "metadata": {},
   "outputs": [],
   "source": [
    "#replace all nk with numpy NaN value\n",
    "df = df.replace('nk', np.NaN)"
   ]
  },
  {
   "cell_type": "code",
   "execution_count": 227,
   "id": "4939eda1",
   "metadata": {},
   "outputs": [
    {
     "data": {
      "text/plain": [
       "outcome        0\n",
       "sex            0\n",
       "age            0\n",
       "yronset        0\n",
       "premi        734\n",
       "smstat       918\n",
       "diabetes     885\n",
       "highbp       948\n",
       "hichol      1233\n",
       "angina       975\n",
       "stroke       926\n",
       "hosp           0\n",
       "dtype: int64"
      ]
     },
     "execution_count": 227,
     "metadata": {},
     "output_type": "execute_result"
    }
   ],
   "source": [
    "df.isnull().sum()"
   ]
  },
  {
   "cell_type": "code",
   "execution_count": 228,
   "id": "d1e2cf54",
   "metadata": {},
   "outputs": [
    {
     "data": {
      "text/plain": [
       "(4889, 12)"
      ]
     },
     "execution_count": 228,
     "metadata": {},
     "output_type": "execute_result"
    }
   ],
   "source": [
    "df=df.dropna()\n",
    "df.shape"
   ]
  },
  {
   "cell_type": "code",
   "execution_count": 229,
   "id": "fa83e288",
   "metadata": {},
   "outputs": [
    {
     "data": {
      "text/plain": [
       "outcome     0\n",
       "sex         0\n",
       "age         0\n",
       "yronset     0\n",
       "premi       0\n",
       "smstat      0\n",
       "diabetes    0\n",
       "highbp      0\n",
       "hichol      0\n",
       "angina      0\n",
       "stroke      0\n",
       "hosp        0\n",
       "dtype: int64"
      ]
     },
     "execution_count": 229,
     "metadata": {},
     "output_type": "execute_result"
    }
   ],
   "source": [
    "df.isnull().sum()"
   ]
  },
  {
   "cell_type": "markdown",
   "id": "5aa2a314",
   "metadata": {},
   "source": [
    "All the null or 'nk' (not known) values have been dropped. It has not been replaced with the mode value because, in a critical medicine related problem like this, we cant assume the values of important features like cholesterol etc, so it has been removed instead of replacing"
   ]
  },
  {
   "cell_type": "code",
   "execution_count": 230,
   "id": "1ad69cb1",
   "metadata": {},
   "outputs": [
    {
     "name": "stdout",
     "output_type": "stream",
     "text": [
      "outcome\n",
      "dead    1700\n",
      "live    3189\n",
      "dtype: int64\n",
      "\n",
      "\n",
      "sex\n",
      "f    1298\n",
      "m    3591\n",
      "dtype: int64\n",
      "\n",
      "\n",
      "premi\n",
      "n    3596\n",
      "y    1293\n",
      "dtype: int64\n",
      "\n",
      "\n",
      "smstat\n",
      "c    1822\n",
      "n    1323\n",
      "x    1744\n",
      "dtype: int64\n",
      "\n",
      "\n",
      "diabetes\n",
      "n    4208\n",
      "y     681\n",
      "dtype: int64\n",
      "\n",
      "\n",
      "highbp\n",
      "n    2336\n",
      "y    2553\n",
      "dtype: int64\n",
      "\n",
      "\n",
      "hichol\n",
      "n    3150\n",
      "y    1739\n",
      "dtype: int64\n",
      "\n",
      "\n",
      "angina\n",
      "n    3223\n",
      "y    1666\n",
      "dtype: int64\n",
      "\n",
      "\n",
      "stroke\n",
      "n    4426\n",
      "y     463\n",
      "dtype: int64\n",
      "\n",
      "\n",
      "hosp\n",
      "n    1117\n",
      "y    3772\n",
      "dtype: int64\n",
      "\n",
      "\n"
     ]
    }
   ],
   "source": [
    "for col in categorical:\n",
    "    print(df.groupby(col).size())\n",
    "    print(\"\\n\")"
   ]
  },
  {
   "cell_type": "markdown",
   "id": "de7e9ef9",
   "metadata": {},
   "source": [
    "Now we can see that there are only relevant values for all the features"
   ]
  },
  {
   "cell_type": "markdown",
   "id": "92c807f6",
   "metadata": {},
   "source": [
    "Encoding the catagorical columns using label encoding"
   ]
  },
  {
   "cell_type": "code",
   "execution_count": 231,
   "id": "2921681b",
   "metadata": {},
   "outputs": [],
   "source": [
    "from sklearn.preprocessing import LabelEncoder\n",
    "le = LabelEncoder()\n",
    "df[categorical] = df[categorical].apply(le.fit_transform)"
   ]
  },
  {
   "cell_type": "code",
   "execution_count": 232,
   "id": "319baa4c",
   "metadata": {},
   "outputs": [
    {
     "data": {
      "text/html": [
       "<div>\n",
       "<style scoped>\n",
       "    .dataframe tbody tr th:only-of-type {\n",
       "        vertical-align: middle;\n",
       "    }\n",
       "\n",
       "    .dataframe tbody tr th {\n",
       "        vertical-align: top;\n",
       "    }\n",
       "\n",
       "    .dataframe thead th {\n",
       "        text-align: right;\n",
       "    }\n",
       "</style>\n",
       "<table border=\"1\" class=\"dataframe\">\n",
       "  <thead>\n",
       "    <tr style=\"text-align: right;\">\n",
       "      <th></th>\n",
       "      <th>outcome</th>\n",
       "      <th>sex</th>\n",
       "      <th>age</th>\n",
       "      <th>yronset</th>\n",
       "      <th>premi</th>\n",
       "      <th>smstat</th>\n",
       "      <th>diabetes</th>\n",
       "      <th>highbp</th>\n",
       "      <th>hichol</th>\n",
       "      <th>angina</th>\n",
       "      <th>stroke</th>\n",
       "      <th>hosp</th>\n",
       "    </tr>\n",
       "  </thead>\n",
       "  <tbody>\n",
       "    <tr>\n",
       "      <th>0</th>\n",
       "      <td>1</td>\n",
       "      <td>0</td>\n",
       "      <td>63</td>\n",
       "      <td>85</td>\n",
       "      <td>0</td>\n",
       "      <td>2</td>\n",
       "      <td>0</td>\n",
       "      <td>1</td>\n",
       "      <td>1</td>\n",
       "      <td>0</td>\n",
       "      <td>0</td>\n",
       "      <td>1</td>\n",
       "    </tr>\n",
       "    <tr>\n",
       "      <th>1</th>\n",
       "      <td>1</td>\n",
       "      <td>1</td>\n",
       "      <td>59</td>\n",
       "      <td>85</td>\n",
       "      <td>1</td>\n",
       "      <td>2</td>\n",
       "      <td>0</td>\n",
       "      <td>1</td>\n",
       "      <td>0</td>\n",
       "      <td>0</td>\n",
       "      <td>0</td>\n",
       "      <td>1</td>\n",
       "    </tr>\n",
       "    <tr>\n",
       "      <th>2</th>\n",
       "      <td>1</td>\n",
       "      <td>1</td>\n",
       "      <td>68</td>\n",
       "      <td>85</td>\n",
       "      <td>0</td>\n",
       "      <td>1</td>\n",
       "      <td>0</td>\n",
       "      <td>1</td>\n",
       "      <td>0</td>\n",
       "      <td>0</td>\n",
       "      <td>0</td>\n",
       "      <td>1</td>\n",
       "    </tr>\n",
       "    <tr>\n",
       "      <th>3</th>\n",
       "      <td>1</td>\n",
       "      <td>1</td>\n",
       "      <td>46</td>\n",
       "      <td>85</td>\n",
       "      <td>0</td>\n",
       "      <td>0</td>\n",
       "      <td>0</td>\n",
       "      <td>0</td>\n",
       "      <td>0</td>\n",
       "      <td>0</td>\n",
       "      <td>0</td>\n",
       "      <td>1</td>\n",
       "    </tr>\n",
       "    <tr>\n",
       "      <th>4</th>\n",
       "      <td>0</td>\n",
       "      <td>1</td>\n",
       "      <td>48</td>\n",
       "      <td>85</td>\n",
       "      <td>0</td>\n",
       "      <td>1</td>\n",
       "      <td>1</td>\n",
       "      <td>0</td>\n",
       "      <td>0</td>\n",
       "      <td>1</td>\n",
       "      <td>0</td>\n",
       "      <td>1</td>\n",
       "    </tr>\n",
       "    <tr>\n",
       "      <th>5</th>\n",
       "      <td>1</td>\n",
       "      <td>0</td>\n",
       "      <td>55</td>\n",
       "      <td>85</td>\n",
       "      <td>0</td>\n",
       "      <td>0</td>\n",
       "      <td>0</td>\n",
       "      <td>1</td>\n",
       "      <td>1</td>\n",
       "      <td>0</td>\n",
       "      <td>0</td>\n",
       "      <td>1</td>\n",
       "    </tr>\n",
       "    <tr>\n",
       "      <th>6</th>\n",
       "      <td>1</td>\n",
       "      <td>1</td>\n",
       "      <td>56</td>\n",
       "      <td>85</td>\n",
       "      <td>0</td>\n",
       "      <td>2</td>\n",
       "      <td>0</td>\n",
       "      <td>1</td>\n",
       "      <td>0</td>\n",
       "      <td>0</td>\n",
       "      <td>0</td>\n",
       "      <td>1</td>\n",
       "    </tr>\n",
       "    <tr>\n",
       "      <th>8</th>\n",
       "      <td>1</td>\n",
       "      <td>1</td>\n",
       "      <td>69</td>\n",
       "      <td>85</td>\n",
       "      <td>0</td>\n",
       "      <td>1</td>\n",
       "      <td>0</td>\n",
       "      <td>1</td>\n",
       "      <td>1</td>\n",
       "      <td>0</td>\n",
       "      <td>0</td>\n",
       "      <td>1</td>\n",
       "    </tr>\n",
       "    <tr>\n",
       "      <th>9</th>\n",
       "      <td>1</td>\n",
       "      <td>0</td>\n",
       "      <td>64</td>\n",
       "      <td>85</td>\n",
       "      <td>0</td>\n",
       "      <td>2</td>\n",
       "      <td>0</td>\n",
       "      <td>1</td>\n",
       "      <td>0</td>\n",
       "      <td>1</td>\n",
       "      <td>0</td>\n",
       "      <td>1</td>\n",
       "    </tr>\n",
       "    <tr>\n",
       "      <th>11</th>\n",
       "      <td>1</td>\n",
       "      <td>1</td>\n",
       "      <td>55</td>\n",
       "      <td>85</td>\n",
       "      <td>0</td>\n",
       "      <td>1</td>\n",
       "      <td>1</td>\n",
       "      <td>0</td>\n",
       "      <td>0</td>\n",
       "      <td>0</td>\n",
       "      <td>0</td>\n",
       "      <td>1</td>\n",
       "    </tr>\n",
       "  </tbody>\n",
       "</table>\n",
       "</div>"
      ],
      "text/plain": [
       "    outcome  sex  age  yronset  premi  smstat  diabetes  highbp  hichol  \\\n",
       "0         1    0   63       85      0       2         0       1       1   \n",
       "1         1    1   59       85      1       2         0       1       0   \n",
       "2         1    1   68       85      0       1         0       1       0   \n",
       "3         1    1   46       85      0       0         0       0       0   \n",
       "4         0    1   48       85      0       1         1       0       0   \n",
       "5         1    0   55       85      0       0         0       1       1   \n",
       "6         1    1   56       85      0       2         0       1       0   \n",
       "8         1    1   69       85      0       1         0       1       1   \n",
       "9         1    0   64       85      0       2         0       1       0   \n",
       "11        1    1   55       85      0       1         1       0       0   \n",
       "\n",
       "    angina  stroke  hosp  \n",
       "0        0       0     1  \n",
       "1        0       0     1  \n",
       "2        0       0     1  \n",
       "3        0       0     1  \n",
       "4        1       0     1  \n",
       "5        0       0     1  \n",
       "6        0       0     1  \n",
       "8        0       0     1  \n",
       "9        1       0     1  \n",
       "11       0       0     1  "
      ]
     },
     "execution_count": 232,
     "metadata": {},
     "output_type": "execute_result"
    }
   ],
   "source": [
    "df.head(10)"
   ]
  },
  {
   "cell_type": "markdown",
   "id": "4c01a3a2",
   "metadata": {},
   "source": [
    "=> outcome 1 is live, 0 is dead"
   ]
  },
  {
   "cell_type": "code",
   "execution_count": 233,
   "id": "e4b2b788",
   "metadata": {},
   "outputs": [
    {
     "data": {
      "image/png": "[encoded data removed]",
      "text/plain": [
       "<Figure size 640x480 with 2 Axes>"
      ]
     },
     "metadata": {},
     "output_type": "display_data"
    }
   ],
   "source": [
    "import seaborn as sn \n",
    "hm = sn.heatmap(data = df.corr())"
   ]
  },
  {
   "cell_type": "markdown",
   "id": "c874360d",
   "metadata": {},
   "source": [
    "We can see that there is no multicollinearity between the features. But also there is no correlation between the features and taget varibale hence, we cannot apply Logistic Regression in this case"
   ]
  },
  {
   "cell_type": "code",
   "execution_count": 234,
   "id": "66d583b7",
   "metadata": {},
   "outputs": [],
   "source": [
    "#Separating features and target variable\n",
    "X=df.drop('outcome',axis=1) \n",
    "y=df['outcome'] "
   ]
  },
  {
   "cell_type": "code",
   "execution_count": 235,
   "id": "67dfc7a3",
   "metadata": {},
   "outputs": [],
   "source": [
    "#splitting training and testing sets\n",
    "from sklearn.model_selection import train_test_split\n",
    "\n",
    "X_train, X_test, y_train, y_test = train_test_split(X, y, test_size=0.3, random_state=24)"
   ]
  },
  {
   "cell_type": "markdown",
   "id": "5c0ab58c",
   "metadata": {},
   "source": [
    "MODEL SELECTION: the data consists of mostly catagorical variables (Except age and yronset), Decision Tree(ID-3) works well for catagorical variables, hence we can use that algorithm to build the model. A decision tree of depth = 4 and criterion = entropy (id-3) is built"
   ]
  },
  {
   "cell_type": "code",
   "execution_count": 236,
   "id": "d9129355",
   "metadata": {},
   "outputs": [
    {
     "data": {
      "text/html": [
       "<style>#sk-container-id-22 {color: black;}#sk-container-id-22 pre{padding: 0;}#sk-container-id-22 div.sk-toggleable {background-color: white;}#sk-container-id-22 label.sk-toggleable__label {cursor: pointer;display: block;width: 100%;margin-bottom: 0;padding: 0.3em;box-sizing: border-box;text-align: center;}#sk-container-id-22 label.sk-toggleable__label-arrow:before {content: \"▸\";float: left;margin-right: 0.25em;color: #696969;}#sk-container-id-22 label.sk-toggleable__label-arrow:hover:before {color: black;}#sk-container-id-22 div.sk-estimator:hover label.sk-toggleable__label-arrow:before {color: black;}#sk-container-id-22 div.sk-toggleable__content {max-height: 0;max-width: 0;overflow: hidden;text-align: left;background-color: #f0f8ff;}#sk-container-id-22 div.sk-toggleable__content pre {margin: 0.2em;color: black;border-radius: 0.25em;background-color: #f0f8ff;}#sk-container-id-22 input.sk-toggleable__control:checked~div.sk-toggleable__content {max-height: 200px;max-width: 100%;overflow: auto;}#sk-container-id-22 input.sk-toggleable__control:checked~label.sk-toggleable__label-arrow:before {content: \"▾\";}#sk-container-id-22 div.sk-estimator input.sk-toggleable__control:checked~label.sk-toggleable__label {background-color: #d4ebff;}#sk-container-id-22 div.sk-label input.sk-toggleable__control:checked~label.sk-toggleable__label {background-color: #d4ebff;}#sk-container-id-22 input.sk-hidden--visually {border: 0;clip: rect(1px 1px 1px 1px);clip: rect(1px, 1px, 1px, 1px);height: 1px;margin: -1px;overflow: hidden;padding: 0;position: absolute;width: 1px;}#sk-container-id-22 div.sk-estimator {font-family: monospace;background-color: #f0f8ff;border: 1px dotted black;border-radius: 0.25em;box-sizing: border-box;margin-bottom: 0.5em;}#sk-container-id-22 div.sk-estimator:hover {background-color: #d4ebff;}#sk-container-id-22 div.sk-parallel-item::after {content: \"\";width: 100%;border-bottom: 1px solid gray;flex-grow: 1;}#sk-container-id-22 div.sk-label:hover label.sk-toggleable__label {background-color: #d4ebff;}#sk-container-id-22 div.sk-serial::before {content: \"\";position: absolute;border-left: 1px solid gray;box-sizing: border-box;top: 0;bottom: 0;left: 50%;z-index: 0;}#sk-container-id-22 div.sk-serial {display: flex;flex-direction: column;align-items: center;background-color: white;padding-right: 0.2em;padding-left: 0.2em;position: relative;}#sk-container-id-22 div.sk-item {position: relative;z-index: 1;}#sk-container-id-22 div.sk-parallel {display: flex;align-items: stretch;justify-content: center;background-color: white;position: relative;}#sk-container-id-22 div.sk-item::before, #sk-container-id-22 div.sk-parallel-item::before {content: \"\";position: absolute;border-left: 1px solid gray;box-sizing: border-box;top: 0;bottom: 0;left: 50%;z-index: -1;}#sk-container-id-22 div.sk-parallel-item {display: flex;flex-direction: column;z-index: 1;position: relative;background-color: white;}#sk-container-id-22 div.sk-parallel-item:first-child::after {align-self: flex-end;width: 50%;}#sk-container-id-22 div.sk-parallel-item:last-child::after {align-self: flex-start;width: 50%;}#sk-container-id-22 div.sk-parallel-item:only-child::after {width: 0;}#sk-container-id-22 div.sk-dashed-wrapped {border: 1px dashed gray;margin: 0 0.4em 0.5em 0.4em;box-sizing: border-box;padding-bottom: 0.4em;background-color: white;}#sk-container-id-22 div.sk-label label {font-family: monospace;font-weight: bold;display: inline-block;line-height: 1.2em;}#sk-container-id-22 div.sk-label-container {text-align: center;}#sk-container-id-22 div.sk-container {/* jupyter's `normalize.less` sets `[hidden] { display: none; }` but bootstrap.min.css set `[hidden] { display: none !important; }` so we also need the `!important` here to be able to override the default hidden behavior on the sphinx rendered scikit-learn.org. See: https://github.com/scikit-learn/scikit-learn/issues/21755 */display: inline-block !important;position: relative;}#sk-container-id-22 div.sk-text-repr-fallback {display: none;}</style><div id=\"sk-container-id-22\" class=\"sk-top-container\"><div class=\"sk-text-repr-fallback\"><pre>DecisionTreeClassifier(criterion=&#x27;entropy&#x27;, max_depth=4)</pre><b>In a Jupyter environment, please rerun this cell to show the HTML representation or trust the notebook. <br />On GitHub, the HTML representation is unable to render, please try loading this page with nbviewer.org.</b></div><div class=\"sk-container\" hidden><div class=\"sk-item\"><div class=\"sk-estimator sk-toggleable\"><input class=\"sk-toggleable__control sk-hidden--visually\" id=\"sk-estimator-id-22\" type=\"checkbox\" checked><label for=\"sk-estimator-id-22\" class=\"sk-toggleable__label sk-toggleable__label-arrow\">DecisionTreeClassifier</label><div class=\"sk-toggleable__content\"><pre>DecisionTreeClassifier(criterion=&#x27;entropy&#x27;, max_depth=4)</pre></div></div></div></div></div>"
      ],
      "text/plain": [
       "DecisionTreeClassifier(criterion='entropy', max_depth=4)"
      ]
     },
     "execution_count": 236,
     "metadata": {},
     "output_type": "execute_result"
    }
   ],
   "source": [
    "from sklearn.tree import DecisionTreeClassifier\n",
    "from sklearn import tree\n",
    "\n",
    "\n",
    "clf = DecisionTreeClassifier(criterion='entropy', max_depth=4)\n",
    "clf.fit(X_train, y_train)"
   ]
  },
  {
   "cell_type": "markdown",
   "id": "2b2dc2fd",
   "metadata": {},
   "source": [
    "Visualising the tree"
   ]
  },
  {
   "cell_type": "code",
   "execution_count": 237,
   "id": "c9c3da9d",
   "metadata": {},
   "outputs": [
    {
     "name": "stdout",
     "output_type": "stream",
     "text": [
      "[Text(0.4, 0.9, 'x[10] <= 0.5\\nentropy = 0.939\\nsamples = 3422\\nvalue = [1217, 2205]'), Text(0.2, 0.7, 'x[2] <= 87.5\\nentropy = 0.036\\nsamples = 784\\nvalue = [781, 3]'), Text(0.15, 0.5, 'x[6] <= 0.5\\nentropy = 0.078\\nsamples = 312\\nvalue = [309, 3]'), Text(0.1, 0.3, 'x[1] <= 61.5\\nentropy = 0.141\\nsamples = 151\\nvalue = [148, 3]'), Text(0.05, 0.1, 'entropy = 0.0\\nsamples = 86\\nvalue = [86, 0]'), Text(0.15, 0.1, 'entropy = 0.27\\nsamples = 65\\nvalue = [62, 3]'), Text(0.2, 0.3, 'entropy = 0.0\\nsamples = 161\\nvalue = [161, 0]'), Text(0.25, 0.5, 'entropy = 0.0\\nsamples = 472\\nvalue = [472, 0]'), Text(0.6, 0.7, 'x[1] <= 58.5\\nentropy = 0.647\\nsamples = 2638\\nvalue = [436, 2202]'), Text(0.4, 0.5, 'x[8] <= 0.5\\nentropy = 0.458\\nsamples = 1067\\nvalue = [103, 964]'), Text(0.3, 0.3, 'x[2] <= 92.5\\nentropy = 0.357\\nsamples = 814\\nvalue = [55, 759]'), Text(0.25, 0.1, 'entropy = 0.383\\nsamples = 724\\nvalue = [54, 670]'), Text(0.35, 0.1, 'entropy = 0.088\\nsamples = 90\\nvalue = [1, 89]'), Text(0.5, 0.3, 'x[5] <= 0.5\\nentropy = 0.701\\nsamples = 253\\nvalue = [48, 205]'), Text(0.45, 0.1, 'entropy = 0.634\\nsamples = 194\\nvalue = [31, 163]'), Text(0.55, 0.1, 'entropy = 0.866\\nsamples = 59\\nvalue = [17, 42]'), Text(0.8, 0.5, 'x[9] <= 0.5\\nentropy = 0.745\\nsamples = 1571\\nvalue = [333, 1238]'), Text(0.7, 0.3, 'x[2] <= 90.5\\nentropy = 0.707\\nsamples = 1374\\nvalue = [265, 1109]'), Text(0.65, 0.1, 'entropy = 0.759\\nsamples = 994\\nvalue = [218, 776]'), Text(0.75, 0.1, 'entropy = 0.54\\nsamples = 380\\nvalue = [47, 333]'), Text(0.9, 0.3, 'x[2] <= 89.5\\nentropy = 0.93\\nsamples = 197\\nvalue = [68, 129]'), Text(0.85, 0.1, 'entropy = 0.973\\nsamples = 124\\nvalue = [50, 74]'), Text(0.95, 0.1, 'entropy = 0.806\\nsamples = 73\\nvalue = [18, 55]')]\n"
     ]
    },
    {
     "data": {
      "image/png": "[encoded data removed]",
      "text/plain": [
       "<Figure size 1200x800 with 1 Axes>"
      ]
     },
     "metadata": {},
     "output_type": "display_data"
    }
   ],
   "source": [
    "plt.figure(figsize=(12,8))\n",
    "print(tree.plot_tree(clf.fit(X_train, y_train))) "
   ]
  },
  {
   "cell_type": "markdown",
   "id": "aa8ea570",
   "metadata": {},
   "source": [
    "MODEL EVALUATION"
   ]
  },
  {
   "cell_type": "markdown",
   "id": "fcf16f32",
   "metadata": {},
   "source": [
    "Sometimes decision tree models may overfit, so we check the testing and training accuracy to check overfitting"
   ]
  },
  {
   "cell_type": "code",
   "execution_count": 238,
   "id": "d975a754",
   "metadata": {},
   "outputs": [
    {
     "name": "stdout",
     "output_type": "stream",
     "text": [
      "Training set score: 0.8717\n",
      "Test set score: 0.8978\n"
     ]
    }
   ],
   "source": [
    "print('Training set score: {:.4f}'.format(clf.score(X_train, y_train)))\n",
    "print('Test set score: {:.4f}'.format(clf.score(X_test, y_test)))"
   ]
  },
  {
   "cell_type": "markdown",
   "id": "8e3d4d95",
   "metadata": {},
   "source": [
    "=> NO overfitting"
   ]
  },
  {
   "cell_type": "code",
   "execution_count": 239,
   "id": "8da32915",
   "metadata": {},
   "outputs": [
    {
     "name": "stdout",
     "output_type": "stream",
     "text": [
      "              precision    recall  f1-score   support\n",
      "\n",
      "           0       1.00      0.69      0.82       483\n",
      "           1       0.87      1.00      0.93       984\n",
      "\n",
      "    accuracy                           0.90      1467\n",
      "   macro avg       0.93      0.84      0.87      1467\n",
      "weighted avg       0.91      0.90      0.89      1467\n",
      "\n"
     ]
    }
   ],
   "source": [
    "from sklearn.metrics import classification_report\n",
    "y_pred=clf.predict(X_test)\n",
    "print(classification_report(y_test, y_pred))"
   ]
  },
  {
   "cell_type": "markdown",
   "id": "077f97f8",
   "metadata": {},
   "source": [
    "INTERPRETATION:\n",
    "\n",
    "=> 100% of the people predicted as dead actually are dead (precision of class 0 = 1.00)\n",
    "\n",
    "=> But only 69% of the people who are actually dead are predicted correctly\n",
    "\n",
    "=> This is a good model because, predicting dead wrongly for an alive person is the least ideal case and that is avoided completely\n",
    "\n",
    "=> But we can not depend only on this model if it gives the outcome as alive for a person (Then need to go for other tests)\n",
    "\n",
    "=> Overall the model predicts 90% of the cases correctly"
   ]
  },
  {
   "cell_type": "markdown",
   "id": "b664014a",
   "metadata": {},
   "source": [
    "Plotting the Reciver operating curve and finding the area under it"
   ]
  },
  {
   "cell_type": "code",
   "execution_count": 240,
   "id": "17cd0707",
   "metadata": {},
   "outputs": [
    {
     "data": {
      "image/png": "[encoded data removed]",
      "text/plain": [
       "<Figure size 640x480 with 1 Axes>"
      ]
     },
     "metadata": {},
     "output_type": "display_data"
    }
   ],
   "source": [
    "from sklearn import metrics\n",
    "import matplotlib.pyplot as plt\n",
    "\n",
    "fpr, tpr, _ = metrics.roc_curve(y_test,  y_pred)\n",
    "auc = metrics.roc_auc_score(y_test, y_pred)\n",
    "\n",
    "plt.plot(fpr,tpr,label=\"AUC=\"+str(auc))\n",
    "plt.ylabel('True Positive Rate')\n",
    "plt.xlabel('False Positive Rate')\n",
    "plt.legend(loc=4)\n",
    "plt.show()"
   ]
  },
  {
   "cell_type": "markdown",
   "id": "ecf14005",
   "metadata": {},
   "source": [
    "=> The model is able to distinguish between alive or dead correctly, in 84.5% of the cases"
   ]
  },
  {
   "cell_type": "code",
   "execution_count": null,
   "id": "0c1d16df",
   "metadata": {},
   "outputs": [],
   "source": []
  }
 ],
 "metadata": {
  "kernelspec": {
   "display_name": "Python 3 (ipykernel)",
   "language": "python",
   "name": "python3"
  },
  "language_info": {
   "codemirror_mode": {
    "name": "ipython",
    "version": 3
   },
   "file_extension": ".py",
   "mimetype": "text/x-python",
   "name": "python",
   "nbconvert_exporter": "python",
   "pygments_lexer": "ipython3",
   "version": "3.8.10"
  }
 },
 "nbformat": 4,
 "nbformat_minor": 5
}
