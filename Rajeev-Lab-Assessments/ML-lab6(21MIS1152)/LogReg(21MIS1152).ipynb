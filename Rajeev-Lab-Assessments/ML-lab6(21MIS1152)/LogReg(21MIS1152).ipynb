{
 "cells": [
  {
   "cell_type": "markdown",
   "id": "0bd8f8de-a0bc-4270-ba31-57abb1b18e09",
   "metadata": {},
   "source": [
    "21MIS1152\n",
    "Rajeev Sekar\n",
    "\n",
    "LOGISTIC REGRESSION"
   ]
  },
  {
   "cell_type": "code",
   "execution_count": 15,
   "id": "765fb86b-dc18-45d6-992a-21ba84358a84",
   "metadata": {},
   "outputs": [
    {
     "data": {
      "text/html": [
       "<div>\n",
       "<style scoped>\n",
       "    .dataframe tbody tr th:only-of-type {\n",
       "        vertical-align: middle;\n",
       "    }\n",
       "\n",
       "    .dataframe tbody tr th {\n",
       "        vertical-align: top;\n",
       "    }\n",
       "\n",
       "    .dataframe thead th {\n",
       "        text-align: right;\n",
       "    }\n",
       "</style>\n",
       "<table border=\"1\" class=\"dataframe\">\n",
       "  <thead>\n",
       "    <tr style=\"text-align: right;\">\n",
       "      <th></th>\n",
       "      <th>Pregnancies</th>\n",
       "      <th>Glucose</th>\n",
       "      <th>BloodPressure</th>\n",
       "      <th>SkinThickness</th>\n",
       "      <th>Insulin</th>\n",
       "      <th>BMI</th>\n",
       "      <th>DiabetesPedigreeFunction</th>\n",
       "      <th>Age</th>\n",
       "      <th>Outcome</th>\n",
       "    </tr>\n",
       "  </thead>\n",
       "  <tbody>\n",
       "    <tr>\n",
       "      <th>0</th>\n",
       "      <td>6</td>\n",
       "      <td>148</td>\n",
       "      <td>72</td>\n",
       "      <td>35</td>\n",
       "      <td>0</td>\n",
       "      <td>33.6</td>\n",
       "      <td>0.627</td>\n",
       "      <td>50</td>\n",
       "      <td>1</td>\n",
       "    </tr>\n",
       "    <tr>\n",
       "      <th>1</th>\n",
       "      <td>1</td>\n",
       "      <td>85</td>\n",
       "      <td>66</td>\n",
       "      <td>29</td>\n",
       "      <td>0</td>\n",
       "      <td>26.6</td>\n",
       "      <td>0.351</td>\n",
       "      <td>31</td>\n",
       "      <td>0</td>\n",
       "    </tr>\n",
       "    <tr>\n",
       "      <th>2</th>\n",
       "      <td>8</td>\n",
       "      <td>183</td>\n",
       "      <td>64</td>\n",
       "      <td>0</td>\n",
       "      <td>0</td>\n",
       "      <td>23.3</td>\n",
       "      <td>0.672</td>\n",
       "      <td>32</td>\n",
       "      <td>1</td>\n",
       "    </tr>\n",
       "    <tr>\n",
       "      <th>3</th>\n",
       "      <td>1</td>\n",
       "      <td>89</td>\n",
       "      <td>66</td>\n",
       "      <td>23</td>\n",
       "      <td>94</td>\n",
       "      <td>28.1</td>\n",
       "      <td>0.167</td>\n",
       "      <td>21</td>\n",
       "      <td>0</td>\n",
       "    </tr>\n",
       "    <tr>\n",
       "      <th>4</th>\n",
       "      <td>0</td>\n",
       "      <td>137</td>\n",
       "      <td>40</td>\n",
       "      <td>35</td>\n",
       "      <td>168</td>\n",
       "      <td>43.1</td>\n",
       "      <td>2.288</td>\n",
       "      <td>33</td>\n",
       "      <td>1</td>\n",
       "    </tr>\n",
       "  </tbody>\n",
       "</table>\n",
       "</div>"
      ],
      "text/plain": [
       "   Pregnancies  Glucose  BloodPressure  SkinThickness  Insulin   BMI  \\\n",
       "0            6      148             72             35        0  33.6   \n",
       "1            1       85             66             29        0  26.6   \n",
       "2            8      183             64              0        0  23.3   \n",
       "3            1       89             66             23       94  28.1   \n",
       "4            0      137             40             35      168  43.1   \n",
       "\n",
       "   DiabetesPedigreeFunction  Age  Outcome  \n",
       "0                     0.627   50        1  \n",
       "1                     0.351   31        0  \n",
       "2                     0.672   32        1  \n",
       "3                     0.167   21        0  \n",
       "4                     2.288   33        1  "
      ]
     },
     "execution_count": 15,
     "metadata": {},
     "output_type": "execute_result"
    }
   ],
   "source": [
    "#import pandas\n",
    "import pandas as pd\n",
    "# load dataset\n",
    "pima = pd.read_csv(\"diabetes.csv\")\n",
    "pima.head()"
   ]
  },
  {
   "cell_type": "markdown",
   "id": "b305b900-d2bb-41b3-af68-3a08c0c78591",
   "metadata": {},
   "source": [
    "DATA PREPROCESSING"
   ]
  },
  {
   "cell_type": "code",
   "execution_count": 16,
   "id": "4c212a03-e442-4d9f-baf5-8d04d1fb2436",
   "metadata": {},
   "outputs": [],
   "source": [
    "#split dataset in features and target variable\n",
    "feature_cols = ['Pregnancies', 'Glucose', 'BMI', 'Age','Insulin','BloodPressure','DiabetesPedigreeFunction']\n",
    "X = pima[feature_cols] # Features\n",
    "y = pima.Outcome # Target variable"
   ]
  },
  {
   "cell_type": "code",
   "execution_count": 17,
   "id": "796decdb-c558-4048-809c-68ad6ee03cae",
   "metadata": {},
   "outputs": [
    {
     "name": "stdout",
     "output_type": "stream",
     "text": [
      "                          Pregnancies   Glucose       BMI       Age   Insulin  \\\n",
      "Pregnancies                  1.000000  0.129459  0.017683  0.544341 -0.073535   \n",
      "Glucose                      0.129459  1.000000  0.221071  0.263514  0.331357   \n",
      "BMI                          0.017683  0.221071  1.000000  0.036242  0.197859   \n",
      "Age                          0.544341  0.263514  0.036242  1.000000 -0.042163   \n",
      "Insulin                     -0.073535  0.331357  0.197859 -0.042163  1.000000   \n",
      "BloodPressure                0.141282  0.152590  0.281805  0.239528  0.088933   \n",
      "DiabetesPedigreeFunction    -0.033523  0.137337  0.140647  0.033561  0.185071   \n",
      "\n",
      "                          BloodPressure  DiabetesPedigreeFunction  \n",
      "Pregnancies                    0.141282                 -0.033523  \n",
      "Glucose                        0.152590                  0.137337  \n",
      "BMI                            0.281805                  0.140647  \n",
      "Age                            0.239528                  0.033561  \n",
      "Insulin                        0.088933                  0.185071  \n",
      "BloodPressure                  1.000000                  0.041265  \n",
      "DiabetesPedigreeFunction       0.041265                  1.000000  \n"
     ]
    }
   ],
   "source": [
    "matrix = X.corr()\n",
    "print(matrix)"
   ]
  },
  {
   "cell_type": "markdown",
   "id": "6b705a23-b9ca-410c-8e83-a497f4193f40",
   "metadata": {},
   "source": [
    "No features are correlated with each other => We can apply logistic regression algorithm"
   ]
  },
  {
   "cell_type": "markdown",
   "id": "903e06ee-005a-4f08-84ce-5a93d1262789",
   "metadata": {},
   "source": [
    "Scaling the features:"
   ]
  },
  {
   "cell_type": "code",
   "execution_count": 42,
   "id": "a74c4a86-448a-4cef-8f0e-5225fd44ed06",
   "metadata": {},
   "outputs": [],
   "source": [
    "from sklearn.preprocessing import StandardScaler\n",
    "\n",
    "std_scaler = StandardScaler()\n",
    "\n",
    "X = std_scaler.fit_transform(X)"
   ]
  },
  {
   "cell_type": "markdown",
   "id": "797c4a4c-7efa-4af5-bf38-78ab83b3c874",
   "metadata": {},
   "source": [
    "Splitting train and test sets"
   ]
  },
  {
   "cell_type": "code",
   "execution_count": 43,
   "id": "3e6d4ad6-96be-4adf-891e-db6591c3db7d",
   "metadata": {},
   "outputs": [],
   "source": [
    "# split X and y into training and testing sets\n",
    "from sklearn.model_selection import train_test_split\n",
    "\n",
    "X_train, X_test, y_train, y_test = train_test_split(X, y, test_size=0.25, random_state=16)"
   ]
  },
  {
   "cell_type": "markdown",
   "id": "b3442836-2448-4020-9c70-1466f8ecf04d",
   "metadata": {},
   "source": [
    "MODEL TRAINING"
   ]
  },
  {
   "cell_type": "code",
   "execution_count": 44,
   "id": "85f8449b-2e0d-4fe6-ae1c-eb6cef4acdf7",
   "metadata": {},
   "outputs": [],
   "source": [
    "from sklearn.linear_model import LogisticRegression\n",
    "\n",
    "logreg = LogisticRegression()\n",
    "\n",
    "logreg.fit(X_train, y_train)\n",
    "\n",
    "y_pred = logreg.predict(X_test)"
   ]
  },
  {
   "cell_type": "markdown",
   "id": "54883d15-2adf-4e6e-b82e-e559ed8da828",
   "metadata": {},
   "source": [
    "MODEL EVALUATION"
   ]
  },
  {
   "cell_type": "code",
   "execution_count": 45,
   "id": "0be33d48-b195-4157-a325-6d1c53cef74f",
   "metadata": {},
   "outputs": [
    {
     "name": "stdout",
     "output_type": "stream",
     "text": [
      "              precision    recall  f1-score   support\n",
      "\n",
      "           0       0.82      0.92      0.87       125\n",
      "           1       0.81      0.63      0.71        67\n",
      "\n",
      "    accuracy                           0.82       192\n",
      "   macro avg       0.81      0.77      0.79       192\n",
      "weighted avg       0.82      0.82      0.81       192\n",
      "\n"
     ]
    }
   ],
   "source": [
    "from sklearn.metrics import classification_report\n",
    "print(classification_report(y_test, y_pred))"
   ]
  },
  {
   "cell_type": "markdown",
   "id": "a4bea827-9b55-43f7-86ba-a6cee0dd3ffd",
   "metadata": {},
   "source": [
    "Interpretation:\n",
    "\n",
    "=> only 82% of patients predicted as having diabetes actually have diabetes\n",
    "\n",
    "=> 92% of the patients actually having diabetes are predicted correctly\n",
    "\n",
    "=> Overall, the model predicts 82% of the cases accurately\n"
   ]
  },
  {
   "cell_type": "markdown",
   "id": "39d0a995-59e9-4159-aba8-79c517daccbd",
   "metadata": {},
   "source": [
    "Displaying the model parameters: \n",
    "\n",
    "1. The slope values of all features"
   ]
  },
  {
   "cell_type": "code",
   "execution_count": 46,
   "id": "fd92e0d0-8471-43f6-bea2-1e85b6893d0a",
   "metadata": {},
   "outputs": [
    {
     "data": {
      "text/plain": [
       "array([[ 0.30213836,  1.02049564,  0.70136964,  0.15244513, -0.15129797,\n",
       "        -0.25676181,  0.29104294]])"
      ]
     },
     "execution_count": 46,
     "metadata": {},
     "output_type": "execute_result"
    }
   ],
   "source": [
    "logreg.coef_"
   ]
  },
  {
   "cell_type": "markdown",
   "id": "e368a9a4-89f6-47c7-a9a8-874e2b93d6e8",
   "metadata": {},
   "source": [
    "2. The intercept value"
   ]
  },
  {
   "cell_type": "code",
   "execution_count": 47,
   "id": "90d2db66-2e5b-4da7-8401-07a7b5080fce",
   "metadata": {},
   "outputs": [
    {
     "data": {
      "text/plain": [
       "array([-0.83662093])"
      ]
     },
     "execution_count": 47,
     "metadata": {},
     "output_type": "execute_result"
    }
   ],
   "source": [
    "logreg.intercept_"
   ]
  },
  {
   "cell_type": "code",
   "execution_count": null,
   "id": "342dd5d2-d26c-4961-942c-5f6d6aa2c8da",
   "metadata": {},
   "outputs": [],
   "source": []
  }
 ],
 "metadata": {
  "kernelspec": {
   "display_name": "Python 3 (ipykernel)",
   "language": "python",
   "name": "python3"
  },
  "language_info": {
   "codemirror_mode": {
    "name": "ipython",
    "version": 3
   },
   "file_extension": ".py",
   "mimetype": "text/x-python",
   "name": "python",
   "nbconvert_exporter": "python",
   "pygments_lexer": "ipython3",
   "version": "3.8.10"
  }
 },
 "nbformat": 4,
 "nbformat_minor": 5
}
