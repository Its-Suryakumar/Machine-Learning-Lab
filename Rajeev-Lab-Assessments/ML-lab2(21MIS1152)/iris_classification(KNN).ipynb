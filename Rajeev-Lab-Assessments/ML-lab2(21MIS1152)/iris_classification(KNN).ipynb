{
 "cells": [
  {
   "cell_type": "markdown",
   "id": "29576dae-92fc-48d7-9a47-be0ed0bc18cd",
   "metadata": {},
   "source": [
    "this problem is a multi class classification task of predicting the species of the plant based on \n",
    "4 features (sepal len,wid and petal len,wid)"
   ]
  },
  {
   "cell_type": "markdown",
   "id": "d017f395-6666-404b-ba5e-9fd043b03ccf",
   "metadata": {},
   "source": [
    "LOADING DATASET"
   ]
  },
  {
   "cell_type": "code",
   "execution_count": 6,
   "id": "b3199e37-ee31-4f8c-881c-e3c03a3d09de",
   "metadata": {},
   "outputs": [
    {
     "data": {
      "text/html": [
       "<div>\n",
       "<style scoped>\n",
       "    .dataframe tbody tr th:only-of-type {\n",
       "        vertical-align: middle;\n",
       "    }\n",
       "\n",
       "    .dataframe tbody tr th {\n",
       "        vertical-align: top;\n",
       "    }\n",
       "\n",
       "    .dataframe thead th {\n",
       "        text-align: right;\n",
       "    }\n",
       "</style>\n",
       "<table border=\"1\" class=\"dataframe\">\n",
       "  <thead>\n",
       "    <tr style=\"text-align: right;\">\n",
       "      <th></th>\n",
       "      <th>sepal_length</th>\n",
       "      <th>sepal_width</th>\n",
       "      <th>petal_length</th>\n",
       "      <th>petal_width</th>\n",
       "      <th>species</th>\n",
       "    </tr>\n",
       "  </thead>\n",
       "  <tbody>\n",
       "    <tr>\n",
       "      <th>0</th>\n",
       "      <td>5.1</td>\n",
       "      <td>3.5</td>\n",
       "      <td>1.4</td>\n",
       "      <td>0.2</td>\n",
       "      <td>setosa</td>\n",
       "    </tr>\n",
       "    <tr>\n",
       "      <th>1</th>\n",
       "      <td>4.9</td>\n",
       "      <td>3.0</td>\n",
       "      <td>1.4</td>\n",
       "      <td>0.2</td>\n",
       "      <td>setosa</td>\n",
       "    </tr>\n",
       "    <tr>\n",
       "      <th>2</th>\n",
       "      <td>4.7</td>\n",
       "      <td>3.2</td>\n",
       "      <td>1.3</td>\n",
       "      <td>0.2</td>\n",
       "      <td>setosa</td>\n",
       "    </tr>\n",
       "    <tr>\n",
       "      <th>3</th>\n",
       "      <td>4.6</td>\n",
       "      <td>3.1</td>\n",
       "      <td>1.5</td>\n",
       "      <td>0.2</td>\n",
       "      <td>setosa</td>\n",
       "    </tr>\n",
       "    <tr>\n",
       "      <th>4</th>\n",
       "      <td>5.0</td>\n",
       "      <td>3.6</td>\n",
       "      <td>1.4</td>\n",
       "      <td>0.2</td>\n",
       "      <td>setosa</td>\n",
       "    </tr>\n",
       "  </tbody>\n",
       "</table>\n",
       "</div>"
      ],
      "text/plain": [
       "   sepal_length  sepal_width  petal_length  petal_width species\n",
       "0           5.1          3.5           1.4          0.2  setosa\n",
       "1           4.9          3.0           1.4          0.2  setosa\n",
       "2           4.7          3.2           1.3          0.2  setosa\n",
       "3           4.6          3.1           1.5          0.2  setosa\n",
       "4           5.0          3.6           1.4          0.2  setosa"
      ]
     },
     "execution_count": 6,
     "metadata": {},
     "output_type": "execute_result"
    }
   ],
   "source": [
    "import pandas as pd\n",
    "\n",
    "#loading the dataset as a pandas dataframe\n",
    "df = pd.read_csv(\"iris.csv\")\n",
    "\n",
    "#prints first 5 cols of the dataset\n",
    "df.head()"
   ]
  },
  {
   "cell_type": "code",
   "execution_count": 7,
   "id": "eb517cb2-6ed5-44ca-8cf4-6630609564b3",
   "metadata": {},
   "outputs": [
    {
     "data": {
      "text/plain": [
       "(150, 5)"
      ]
     },
     "execution_count": 7,
     "metadata": {},
     "output_type": "execute_result"
    }
   ],
   "source": [
    "#shows no of rows and cols in the dataset\n",
    "df.shape"
   ]
  },
  {
   "cell_type": "code",
   "execution_count": 8,
   "id": "795fbeb7-3b08-4a27-b034-0c1b2c653067",
   "metadata": {},
   "outputs": [
    {
     "data": {
      "text/html": [
       "<div>\n",
       "<style scoped>\n",
       "    .dataframe tbody tr th:only-of-type {\n",
       "        vertical-align: middle;\n",
       "    }\n",
       "\n",
       "    .dataframe tbody tr th {\n",
       "        vertical-align: top;\n",
       "    }\n",
       "\n",
       "    .dataframe thead th {\n",
       "        text-align: right;\n",
       "    }\n",
       "</style>\n",
       "<table border=\"1\" class=\"dataframe\">\n",
       "  <thead>\n",
       "    <tr style=\"text-align: right;\">\n",
       "      <th></th>\n",
       "      <th>sepal_length</th>\n",
       "      <th>sepal_width</th>\n",
       "      <th>petal_length</th>\n",
       "      <th>petal_width</th>\n",
       "    </tr>\n",
       "  </thead>\n",
       "  <tbody>\n",
       "    <tr>\n",
       "      <th>count</th>\n",
       "      <td>150.000000</td>\n",
       "      <td>150.000000</td>\n",
       "      <td>150.000000</td>\n",
       "      <td>150.000000</td>\n",
       "    </tr>\n",
       "    <tr>\n",
       "      <th>mean</th>\n",
       "      <td>5.843333</td>\n",
       "      <td>3.054000</td>\n",
       "      <td>3.758667</td>\n",
       "      <td>1.198667</td>\n",
       "    </tr>\n",
       "    <tr>\n",
       "      <th>std</th>\n",
       "      <td>0.828066</td>\n",
       "      <td>0.433594</td>\n",
       "      <td>1.764420</td>\n",
       "      <td>0.763161</td>\n",
       "    </tr>\n",
       "    <tr>\n",
       "      <th>min</th>\n",
       "      <td>4.300000</td>\n",
       "      <td>2.000000</td>\n",
       "      <td>1.000000</td>\n",
       "      <td>0.100000</td>\n",
       "    </tr>\n",
       "    <tr>\n",
       "      <th>25%</th>\n",
       "      <td>5.100000</td>\n",
       "      <td>2.800000</td>\n",
       "      <td>1.600000</td>\n",
       "      <td>0.300000</td>\n",
       "    </tr>\n",
       "    <tr>\n",
       "      <th>50%</th>\n",
       "      <td>5.800000</td>\n",
       "      <td>3.000000</td>\n",
       "      <td>4.350000</td>\n",
       "      <td>1.300000</td>\n",
       "    </tr>\n",
       "    <tr>\n",
       "      <th>75%</th>\n",
       "      <td>6.400000</td>\n",
       "      <td>3.300000</td>\n",
       "      <td>5.100000</td>\n",
       "      <td>1.800000</td>\n",
       "    </tr>\n",
       "    <tr>\n",
       "      <th>max</th>\n",
       "      <td>7.900000</td>\n",
       "      <td>4.400000</td>\n",
       "      <td>6.900000</td>\n",
       "      <td>2.500000</td>\n",
       "    </tr>\n",
       "  </tbody>\n",
       "</table>\n",
       "</div>"
      ],
      "text/plain": [
       "       sepal_length  sepal_width  petal_length  petal_width\n",
       "count    150.000000   150.000000    150.000000   150.000000\n",
       "mean       5.843333     3.054000      3.758667     1.198667\n",
       "std        0.828066     0.433594      1.764420     0.763161\n",
       "min        4.300000     2.000000      1.000000     0.100000\n",
       "25%        5.100000     2.800000      1.600000     0.300000\n",
       "50%        5.800000     3.000000      4.350000     1.300000\n",
       "75%        6.400000     3.300000      5.100000     1.800000\n",
       "max        7.900000     4.400000      6.900000     2.500000"
      ]
     },
     "execution_count": 8,
     "metadata": {},
     "output_type": "execute_result"
    }
   ],
   "source": [
    "#summary statistics of the dataset(only the numerical columns)\n",
    "df.describe()"
   ]
  },
  {
   "cell_type": "markdown",
   "id": "3fdfe1c5-604a-41a8-a54d-d79ddea4d1e5",
   "metadata": {},
   "source": [
    "To know how many classes are present in the target variable and also what is the induvidual no of examples for each class, we can use group by method "
   ]
  },
  {
   "cell_type": "code",
   "execution_count": 9,
   "id": "23e024e9-a28e-4aa5-bb1c-5724abf48117",
   "metadata": {},
   "outputs": [
    {
     "data": {
      "text/plain": [
       "species\n",
       "setosa        50\n",
       "versicolor    50\n",
       "virginica     50\n",
       "dtype: int64"
      ]
     },
     "execution_count": 9,
     "metadata": {},
     "output_type": "execute_result"
    }
   ],
   "source": [
    "df.groupby('species').size()"
   ]
  },
  {
   "cell_type": "markdown",
   "id": "784252ae-e4a5-42e7-8500-f5229926c44b",
   "metadata": {},
   "source": [
    "DATA PREPROCESSING:"
   ]
  },
  {
   "cell_type": "code",
   "execution_count": 10,
   "id": "4c1f64e7-7a2c-4d1d-954d-7eab6dd7fdae",
   "metadata": {},
   "outputs": [
    {
     "data": {
      "text/plain": [
       "sepal_length    0\n",
       "sepal_width     0\n",
       "petal_length    0\n",
       "petal_width     0\n",
       "species         0\n",
       "dtype: int64"
      ]
     },
     "execution_count": 10,
     "metadata": {},
     "output_type": "execute_result"
    }
   ],
   "source": [
    "#checking if dataset has null values\n",
    "df.isnull().sum()"
   ]
  },
  {
   "cell_type": "markdown",
   "id": "6a2ef97a-268a-4aed-a779-d2c190dc1d77",
   "metadata": {},
   "source": [
    "as there is no null values in the dataset, we can go for further preprocessing steps"
   ]
  },
  {
   "cell_type": "code",
   "execution_count": 15,
   "id": "08d4d5cd-7256-422c-8a83-0cff6aa22fbf",
   "metadata": {},
   "outputs": [],
   "source": [
    "#splitting dataset into features(x) and target col(y)\n",
    "\n",
    "X = df.drop(['species'],axis=1).values\n",
    "y = df['species'].values"
   ]
  },
  {
   "cell_type": "markdown",
   "id": "c7691ad3-0251-4f14-8800-d3500e9d684c",
   "metadata": {},
   "source": [
    "as y has 3 classes, we need to encode it using label encoder"
   ]
  },
  {
   "cell_type": "code",
   "execution_count": 20,
   "id": "510f1816-0db2-494e-a808-987b901b75ca",
   "metadata": {},
   "outputs": [
    {
     "data": {
      "text/plain": [
       "array([0, 0, 0, 0, 0, 0, 0, 0, 0, 0, 0, 0, 0, 0, 0, 0, 0, 0, 0, 0, 0, 0,\n",
       "       0, 0, 0, 0, 0, 0, 0, 0, 0, 0, 0, 0, 0, 0, 0, 0, 0, 0, 0, 0, 0, 0,\n",
       "       0, 0, 0, 0, 0, 0, 1, 1, 1, 1, 1, 1, 1, 1, 1, 1, 1, 1, 1, 1, 1, 1,\n",
       "       1, 1, 1, 1, 1, 1, 1, 1, 1, 1, 1, 1, 1, 1, 1, 1, 1, 1, 1, 1, 1, 1,\n",
       "       1, 1, 1, 1, 1, 1, 1, 1, 1, 1, 1, 1, 2, 2, 2, 2, 2, 2, 2, 2, 2, 2,\n",
       "       2, 2, 2, 2, 2, 2, 2, 2, 2, 2, 2, 2, 2, 2, 2, 2, 2, 2, 2, 2, 2, 2,\n",
       "       2, 2, 2, 2, 2, 2, 2, 2, 2, 2, 2, 2, 2, 2, 2, 2, 2, 2])"
      ]
     },
     "execution_count": 20,
     "metadata": {},
     "output_type": "execute_result"
    }
   ],
   "source": [
    "from sklearn.preprocessing import LabelEncoder\n",
    "le = LabelEncoder()\n",
    "y = le.fit_transform(y)\n",
    "y"
   ]
  },
  {
   "cell_type": "markdown",
   "id": "ce9f9b24-f0e8-4c16-85f3-1c87f326f28f",
   "metadata": {},
   "source": [
    "next the dataset is split into train and test sets"
   ]
  },
  {
   "cell_type": "code",
   "execution_count": 37,
   "id": "108b9f1a-7f06-429f-9417-e80b62ce6b83",
   "metadata": {},
   "outputs": [],
   "source": [
    "from sklearn.model_selection import train_test_split\n",
    "X_train, X_test, y_train, y_test = train_test_split(X, y, test_size = 0.3, random_state = 0)"
   ]
  },
  {
   "cell_type": "markdown",
   "id": "4bc4a353-4c9e-4f2a-8555-789a0e3004cb",
   "metadata": {},
   "source": [
    "DATA VISUALISATION "
   ]
  },
  {
   "cell_type": "code",
   "execution_count": 38,
   "id": "1a9577b5-ae81-47a7-afc7-a9a7bc61a5a7",
   "metadata": {},
   "outputs": [
    {
     "data": {
      "text/plain": [
       "[<matplotlib.lines.Line2D at 0x7fa9f522e4c0>]"
      ]
     },
     "execution_count": 38,
     "metadata": {},
     "output_type": "execute_result"
    },
    {
     "data": {
      "image/png": "[encoded data removed]",
      "text/plain": [
       "<Figure size 640x480 with 2 Axes>"
      ]
     },
     "metadata": {},
     "output_type": "display_data"
    }
   ],
   "source": [
    "#subplots for sepal len vs width and petal len vs width\n",
    "import matplotlib.pyplot as plt \n",
    "fig, axs = plt.subplots(2)\n",
    "fig.suptitle('length vs width')\n",
    "axs[0].plot(df.sepal_length, df.sepal_width,ls='',marker='o',color='g',label='Sepal')\n",
    "axs[1].plot(df.petal_length, df.petal_width,ls='',marker='o',color='b',label='Petal')"
   ]
  },
  {
   "cell_type": "markdown",
   "id": "511b3722-2437-4bf2-8e6d-268d54841ee0",
   "metadata": {},
   "source": [
    "MODEL TRAINING"
   ]
  },
  {
   "cell_type": "code",
   "execution_count": 39,
   "id": "8b55b234-866a-44f8-9f05-e4fa4e88d808",
   "metadata": {},
   "outputs": [],
   "source": [
    "#Fitting clasifier to the Training set\n",
    "\n",
    "from sklearn.neighbors import KNeighborsClassifier\n",
    "\n",
    "from sklearn.model_selection import cross_val_score\n",
    "\n",
    "#Instantiate model (k = 3)\n",
    "classifier = KNeighborsClassifier(n_neighbors=3)\n",
    "\n",
    "#Fitting the model\n",
    "classifier.fit(X_train, y_train)\n",
    "\n",
    "#Predicting the Test set results\n",
    "y_pred = classifier.predict(X_test)"
   ]
  },
  {
   "cell_type": "markdown",
   "id": "449ddb66-e604-4c5a-8635-8673e157c1ad",
   "metadata": {},
   "source": [
    "MODEL EVALUATION"
   ]
  },
  {
   "cell_type": "code",
   "execution_count": 40,
   "id": "7ea3b55d-2649-483e-b0c5-d7c1fbfd1bba",
   "metadata": {},
   "outputs": [
    {
     "data": {
      "text/plain": [
       "array([[16,  0,  0],\n",
       "       [ 0, 17,  1],\n",
       "       [ 0,  0, 11]])"
      ]
     },
     "execution_count": 40,
     "metadata": {},
     "output_type": "execute_result"
    }
   ],
   "source": [
    "#confusion matrix\n",
    "\n",
    "from sklearn.metrics import confusion_matrix\n",
    "cm = confusion_matrix(y_test, y_pred)\n",
    "cm"
   ]
  },
  {
   "cell_type": "code",
   "execution_count": 42,
   "id": "3f7c0909-3478-4d5a-a3e0-558fe0c1271d",
   "metadata": {},
   "outputs": [
    {
     "name": "stdout",
     "output_type": "stream",
     "text": [
      "              precision    recall  f1-score   support\n",
      "\n",
      "           0       1.00      1.00      1.00        16\n",
      "           1       1.00      0.94      0.97        18\n",
      "           2       0.92      1.00      0.96        11\n",
      "\n",
      "    accuracy                           0.98        45\n",
      "   macro avg       0.97      0.98      0.98        45\n",
      "weighted avg       0.98      0.98      0.98        45\n",
      "\n"
     ]
    }
   ],
   "source": [
    "#classification report, it shows the precision, recall and F1 score of all the 3 classes separately and also the overall accuracy \n",
    "from sklearn.metrics import classification_report\n",
    "print(classification_report(y_test, y_pred))"
   ]
  },
  {
   "cell_type": "markdown",
   "id": "89a46bcd-3782-4ebe-8492-4284df249de6",
   "metadata": {},
   "source": [
    "MODEL INTERPRETATION "
   ]
  },
  {
   "cell_type": "markdown",
   "id": "b26e5db3-2993-4673-af47-74cde082be9d",
   "metadata": {},
   "source": [
    "=> In class 0, all the exaples in the test set belonging to this class has been correctly predicted "
   ]
  },
  {
   "cell_type": "markdown",
   "id": "62c3dc0d-2f1f-42dc-8d5f-ac91b5574556",
   "metadata": {},
   "source": [
    "=> In class 1, only 94% of the samples actually belonging to this class have been perdicted correctly (recall=0.94) \n"
   ]
  },
  {
   "cell_type": "markdown",
   "id": "224c5920-109a-45a1-bca6-3450dbb29a51",
   "metadata": {},
   "source": [
    "=> In class 2, only 92% of the samples predicted as this class actually belong to class 2 (precision=0.92) \n",
    "y "
   ]
  },
  {
   "cell_type": "markdown",
   "id": "dbd40a0a-8d7a-4c99-aae7-6f228b522c5d",
   "metadata": {},
   "source": [
    "=> In 98% of the cases, the model has predicted the class correctl"
   ]
  },
  {
   "cell_type": "code",
   "execution_count": null,
   "id": "f59ef201-ac31-4672-85ad-c7752a3429ea",
   "metadata": {},
   "outputs": [],
   "source": []
  }
 ],
 "metadata": {
  "kernelspec": {
   "display_name": "Python 3 (ipykernel)",
   "language": "python",
   "name": "python3"
  },
  "language_info": {
   "codemirror_mode": {
    "name": "ipython",
    "version": 3
   },
   "file_extension": ".py",
   "mimetype": "text/x-python",
   "name": "python",
   "nbconvert_exporter": "python",
   "pygments_lexer": "ipython3",
   "version": "3.12.2"
  }
 },
 "nbformat": 4,
 "nbformat_minor": 5
}
