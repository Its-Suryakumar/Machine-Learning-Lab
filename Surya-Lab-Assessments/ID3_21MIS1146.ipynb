{
 "cells": [
  {
   "cell_type": "markdown",
   "id": "1de1f62b",
   "metadata": {},
   "source": [
    "# ID 3 - Decision Tree\n",
    "## Suryakumar P 21MIS1146"
   ]
  },
  {
   "cell_type": "markdown",
   "id": "bb887050",
   "metadata": {},
   "source": [
    "Dataset Used: https://github.com/plotly/datasets/blob/master/diabetes.csv"
   ]
  },
  {
   "cell_type": "code",
   "execution_count": 1,
   "id": "dac81892",
   "metadata": {},
   "outputs": [],
   "source": [
    "import pandas as pd \n",
    "from sklearn.tree import DecisionTreeClassifier, plot_tree \n",
    "import matplotlib.pyplot as plt \n",
    "import math"
   ]
  },
  {
   "cell_type": "code",
   "execution_count": 2,
   "id": "7bc60408",
   "metadata": {},
   "outputs": [
    {
     "data": {
      "text/html": [
       "<div>\n",
       "<style scoped>\n",
       "    .dataframe tbody tr th:only-of-type {\n",
       "        vertical-align: middle;\n",
       "    }\n",
       "\n",
       "    .dataframe tbody tr th {\n",
       "        vertical-align: top;\n",
       "    }\n",
       "\n",
       "    .dataframe thead th {\n",
       "        text-align: right;\n",
       "    }\n",
       "</style>\n",
       "<table border=\"1\" class=\"dataframe\">\n",
       "  <thead>\n",
       "    <tr style=\"text-align: right;\">\n",
       "      <th></th>\n",
       "      <th>Pregnancies</th>\n",
       "      <th>Glucose</th>\n",
       "      <th>BloodPressure</th>\n",
       "      <th>SkinThickness</th>\n",
       "      <th>Insulin</th>\n",
       "      <th>BMI</th>\n",
       "      <th>DiabetesPedigreeFunction</th>\n",
       "      <th>Age</th>\n",
       "      <th>Outcome</th>\n",
       "    </tr>\n",
       "  </thead>\n",
       "  <tbody>\n",
       "    <tr>\n",
       "      <th>0</th>\n",
       "      <td>6</td>\n",
       "      <td>148</td>\n",
       "      <td>72</td>\n",
       "      <td>35</td>\n",
       "      <td>0</td>\n",
       "      <td>33.6</td>\n",
       "      <td>0.627</td>\n",
       "      <td>50</td>\n",
       "      <td>1</td>\n",
       "    </tr>\n",
       "    <tr>\n",
       "      <th>1</th>\n",
       "      <td>1</td>\n",
       "      <td>85</td>\n",
       "      <td>66</td>\n",
       "      <td>29</td>\n",
       "      <td>0</td>\n",
       "      <td>26.6</td>\n",
       "      <td>0.351</td>\n",
       "      <td>31</td>\n",
       "      <td>0</td>\n",
       "    </tr>\n",
       "    <tr>\n",
       "      <th>2</th>\n",
       "      <td>8</td>\n",
       "      <td>183</td>\n",
       "      <td>64</td>\n",
       "      <td>0</td>\n",
       "      <td>0</td>\n",
       "      <td>23.3</td>\n",
       "      <td>0.672</td>\n",
       "      <td>32</td>\n",
       "      <td>1</td>\n",
       "    </tr>\n",
       "    <tr>\n",
       "      <th>3</th>\n",
       "      <td>1</td>\n",
       "      <td>89</td>\n",
       "      <td>66</td>\n",
       "      <td>23</td>\n",
       "      <td>94</td>\n",
       "      <td>28.1</td>\n",
       "      <td>0.167</td>\n",
       "      <td>21</td>\n",
       "      <td>0</td>\n",
       "    </tr>\n",
       "    <tr>\n",
       "      <th>4</th>\n",
       "      <td>0</td>\n",
       "      <td>137</td>\n",
       "      <td>40</td>\n",
       "      <td>35</td>\n",
       "      <td>168</td>\n",
       "      <td>43.1</td>\n",
       "      <td>2.288</td>\n",
       "      <td>33</td>\n",
       "      <td>1</td>\n",
       "    </tr>\n",
       "  </tbody>\n",
       "</table>\n",
       "</div>"
      ],
      "text/plain": [
       "   Pregnancies  Glucose  BloodPressure  SkinThickness  Insulin   BMI  \\\n",
       "0            6      148             72             35        0  33.6   \n",
       "1            1       85             66             29        0  26.6   \n",
       "2            8      183             64              0        0  23.3   \n",
       "3            1       89             66             23       94  28.1   \n",
       "4            0      137             40             35      168  43.1   \n",
       "\n",
       "   DiabetesPedigreeFunction  Age  Outcome  \n",
       "0                     0.627   50        1  \n",
       "1                     0.351   31        0  \n",
       "2                     0.672   32        1  \n",
       "3                     0.167   21        0  \n",
       "4                     2.288   33        1  "
      ]
     },
     "execution_count": 2,
     "metadata": {},
     "output_type": "execute_result"
    }
   ],
   "source": [
    "df = pd.read_csv('diabetes.csv') \n",
    "df.head()"
   ]
  },
  {
   "cell_type": "code",
   "execution_count": 3,
   "id": "2c73528f",
   "metadata": {},
   "outputs": [
    {
     "name": "stdout",
     "output_type": "stream",
     "text": [
      "Entropy of the dataset: 0.9331343166407831\n"
     ]
    }
   ],
   "source": [
    "def calculate_entropy(data, target_column): \n",
    "\ttotal_rows = len(data) \n",
    "\ttarget_values = data[target_column].unique() \n",
    "\n",
    "\tentropy = 0\n",
    "\tfor value in target_values: \n",
    "\t\t# Calculate the proportion of instances with the current value \n",
    "\t\tvalue_count = len(data[data[target_column] == value]) \n",
    "\t\tproportion = value_count / total_rows \n",
    "\t\tentropy -= proportion * math.log2(proportion) \n",
    "\n",
    "\treturn entropy \n",
    "\n",
    "entropy_outcome = calculate_entropy(df, 'Outcome') \n",
    "print(f\"Entropy of the dataset: {entropy_outcome}\")"
   ]
  },
  {
   "cell_type": "code",
   "execution_count": 5,
   "id": "81dee473",
   "metadata": {},
   "outputs": [],
   "source": [
    "def calculate_entropy(data, target_column): # for each categorical variable \n",
    "\ttotal_rows = len(data) \n",
    "\ttarget_values = data[target_column].unique() \n",
    "\n",
    "\tentropy = 0\n",
    "\tfor value in target_values: \n",
    "\t\t# Calculate the proportion of instances with the current value \n",
    "\t\tvalue_count = len(data[data[target_column] == value]) \n",
    "\t\tproportion = value_count / total_rows \n",
    "\t\tentropy -= proportion * math.log2(proportion) if proportion != 0 else 0\n",
    "\n",
    "\treturn entropy \n",
    "\t\n",
    "def calculate_information_gain(data, feature, target_column): \n",
    "\n",
    "\t# Calculate weighted average entropy for the feature \n",
    "\tunique_values = data[feature].unique() \n",
    "\tweighted_entropy = 0\n",
    "\n",
    "\tfor value in unique_values: \n",
    "\t\tsubset = data[data[feature] == value] \n",
    "\t\tproportion = len(subset) / len(data) \n",
    "\t\tweighted_entropy += proportion * calculate_entropy(subset, target_column) \n",
    "\n",
    "\t# Calculate information gain \n",
    "\tinformation_gain = entropy_outcome - weighted_entropy \n",
    "\n",
    "\treturn information_gain"
   ]
  },
  {
   "cell_type": "code",
   "execution_count": 6,
   "id": "c140502b",
   "metadata": {},
   "outputs": [
    {
     "name": "stdout",
     "output_type": "stream",
     "text": [
      "Pregnancies - Entropy: 3.482, Information Gain: 0.062\n",
      "Glucose - Entropy: 6.751, Information Gain: 0.304\n",
      "BloodPressure - Entropy: 4.792, Information Gain: 0.059\n",
      "SkinThickness - Entropy: 4.586, Information Gain: 0.082\n",
      "Insulin - Entropy: 4.682, Information Gain: 0.277\n",
      "BMI - Entropy: 7.594, Information Gain: 0.344\n",
      "DiabetesPedigreeFunction - Entropy: 8.829, Information Gain: 0.651\n",
      "Age - Entropy: 5.029, Information Gain: 0.141\n"
     ]
    }
   ],
   "source": [
    "for column in df.columns[:-1]: \n",
    "\tentropy = calculate_entropy(df, column) \n",
    "\tinformation_gain = calculate_information_gain(df, column, 'Outcome') \n",
    "\tprint(f\"{column} - Entropy: {entropy:.3f}, Information Gain: {information_gain:.3f}\")\n"
   ]
  },
  {
   "cell_type": "code",
   "execution_count": 7,
   "id": "321390e8",
   "metadata": {},
   "outputs": [
    {
     "data": {
      "image/png": "[encoded data removed]",
      "text/plain": [
       "<Figure size 576x432 with 1 Axes>"
      ]
     },
     "metadata": {
      "needs_background": "light"
     },
     "output_type": "display_data"
    }
   ],
   "source": [
    "# Feature selection for the first step in making decision tree \n",
    "selected_feature = 'DiabetesPedigreeFunction'\n",
    "\n",
    "# Create a decision tree \n",
    "clf = DecisionTreeClassifier(criterion='entropy', max_depth=1) \n",
    "X = df[[selected_feature]] \n",
    "y = df['Outcome'] \n",
    "clf.fit(X, y) \n",
    "\n",
    "plt.figure(figsize=(8, 6)) \n",
    "plot_tree(clf, feature_names=[selected_feature], class_names=['0', '1'], filled=True, rounded=True) \n",
    "plt.show() "
   ]
  },
  {
   "cell_type": "code",
   "execution_count": 9,
   "id": "5dcd585e",
   "metadata": {},
   "outputs": [],
   "source": [
    "def id3(data, target_column, features): \n",
    "\tif len(data[target_column].unique()) == 1: \n",
    "\t\treturn data[target_column].iloc[0] \n",
    "\n",
    "\n",
    "\tif len(features) == 0: \n",
    "\t\treturn data[target_column].mode().iloc[0] \n",
    "\n",
    "\tbest_feature = max(features, key=lambda x: calculate_information_gain(data, x, target_column)) \n",
    "\n",
    "\ttree = {best_feature: {}} \n",
    "\n",
    "\tfeatures = [f for f in features if f != best_feature] \n",
    "\n",
    "\tfor value in data[best_feature].unique(): \n",
    "\t\tsubset = data[data[best_feature] == value] \n",
    "\t\ttree[best_feature][value] = id3(subset, target_column, features) \n",
    "\n",
    "\treturn tree "
   ]
  },
  {
   "cell_type": "code",
   "execution_count": null,
   "id": "c19da0b3",
   "metadata": {},
   "outputs": [],
   "source": []
  }
 ],
 "metadata": {
  "kernelspec": {
   "display_name": "Python 3 (ipykernel)",
   "language": "python",
   "name": "python3"
  },
  "language_info": {
   "codemirror_mode": {
    "name": "ipython",
    "version": 3
   },
   "file_extension": ".py",
   "mimetype": "text/x-python",
   "name": "python",
   "nbconvert_exporter": "python",
   "pygments_lexer": "ipython3",
   "version": "3.9.12"
  }
 },
 "nbformat": 4,
 "nbformat_minor": 5
}
